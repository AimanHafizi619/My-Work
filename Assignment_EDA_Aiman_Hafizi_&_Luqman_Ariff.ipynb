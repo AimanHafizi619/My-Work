{
  "cells": [
    {
      "cell_type": "markdown",
      "metadata": {
        "id": "7F8DQl5dVJJ0"
      },
      "source": [
        "# Restaurant Customer Review Analysis in Malaysia <a href=\"https://www.utm.my\" target=\"_parent\"><img src=\"https://colab.research.google.com/assets/colab-badge.svg\" alt=\"Open In Colab\"/></a>\n",
        "\n",
        "The majority of restaurants request client reviews so they may better understand how to satisfy their patrons. Therefore, reviews are essential to the restaurant's successful development."
      ]
    },
    {
      "cell_type": "markdown",
      "metadata": {
        "id": "oHRcyidmVJJ1"
      },
      "source": [
        "\n",
        "> Import all the libraries that will be use for dataset analysia processes."
      ]
    },
    {
      "cell_type": "code",
      "source": [
        "import os\n",
        "import numpy as np\n",
        "import pandas as pd\n",
        "import seaborn as sns\n",
        "import matplotlib.pyplot as plt\n",
        "\n",
        "from google.colab import drive\n",
        "drive.mount(\"/content/drive\")"
      ],
      "metadata": {
        "colab": {
          "base_uri": "https://localhost:8080/"
        },
        "id": "D8SHgsKIRvjH",
        "outputId": "e54f4706-2d79-47c8-ec34-9e216e7653b2"
      },
      "execution_count": 2,
      "outputs": [
        {
          "output_type": "stream",
          "name": "stdout",
          "text": [
            "Mounted at /content/drive\n"
          ]
        }
      ]
    },
    {
      "cell_type": "markdown",
      "source": [
        "> Import the dataset from Google Drive for which will be use for this assignment."
      ],
      "metadata": {
        "id": "LPbaxgvcqxyl"
      }
    },
    {
      "cell_type": "code",
      "execution_count": 3,
      "metadata": {
        "id": "_s6ZSPWYVJJ2",
        "colab": {
          "base_uri": "https://localhost:8080/",
          "height": 395
        },
        "outputId": "cf5db2a1-3433-4e7b-8b72-5c5444793bc1"
      },
      "outputs": [
        {
          "output_type": "display_data",
          "data": {
            "text/plain": [
              "                  Author  Rating  \\\n",
              "0            Jia Pin Lee     4.0   \n",
              "1            Chui Yi Lum     2.0   \n",
              "2            liezel wong     1.0   \n",
              "3              Nazri Nor     1.0   \n",
              "4  Fakru Imran's Channel     5.0   \n",
              "\n",
              "                                              Review           Restaurant  \\\n",
              "0  Came here for the High Tea. Great service espe...  Cuisines Restaurant   \n",
              "1  5 stars for the service, even though some of t...  Cuisines Restaurant   \n",
              "2  Hi, thank you for your service. But! i feel so...  Cuisines Restaurant   \n",
              "3  I have the worse buffer dinner ever so far. Th...  Cuisines Restaurant   \n",
              "4  That's are Known 5 Elmark \" 9H72 \" & KDK \" 3 K...  Cuisines Restaurant   \n",
              "\n",
              "  Location  \n",
              "0     Ipoh  \n",
              "1     Ipoh  \n",
              "2     Ipoh  \n",
              "3     Ipoh  \n",
              "4     Ipoh  "
            ],
            "text/html": [
              "\n",
              "  <div id=\"df-a7fc80f9-8e36-444c-832f-c429e2f2b957\">\n",
              "    <div class=\"colab-df-container\">\n",
              "      <div>\n",
              "<style scoped>\n",
              "    .dataframe tbody tr th:only-of-type {\n",
              "        vertical-align: middle;\n",
              "    }\n",
              "\n",
              "    .dataframe tbody tr th {\n",
              "        vertical-align: top;\n",
              "    }\n",
              "\n",
              "    .dataframe thead th {\n",
              "        text-align: right;\n",
              "    }\n",
              "</style>\n",
              "<table border=\"1\" class=\"dataframe\">\n",
              "  <thead>\n",
              "    <tr style=\"text-align: right;\">\n",
              "      <th></th>\n",
              "      <th>Author</th>\n",
              "      <th>Rating</th>\n",
              "      <th>Review</th>\n",
              "      <th>Restaurant</th>\n",
              "      <th>Location</th>\n",
              "    </tr>\n",
              "  </thead>\n",
              "  <tbody>\n",
              "    <tr>\n",
              "      <th>0</th>\n",
              "      <td>Jia Pin Lee</td>\n",
              "      <td>4.0</td>\n",
              "      <td>Came here for the High Tea. Great service espe...</td>\n",
              "      <td>Cuisines Restaurant</td>\n",
              "      <td>Ipoh</td>\n",
              "    </tr>\n",
              "    <tr>\n",
              "      <th>1</th>\n",
              "      <td>Chui Yi Lum</td>\n",
              "      <td>2.0</td>\n",
              "      <td>5 stars for the service, even though some of t...</td>\n",
              "      <td>Cuisines Restaurant</td>\n",
              "      <td>Ipoh</td>\n",
              "    </tr>\n",
              "    <tr>\n",
              "      <th>2</th>\n",
              "      <td>liezel wong</td>\n",
              "      <td>1.0</td>\n",
              "      <td>Hi, thank you for your service. But! i feel so...</td>\n",
              "      <td>Cuisines Restaurant</td>\n",
              "      <td>Ipoh</td>\n",
              "    </tr>\n",
              "    <tr>\n",
              "      <th>3</th>\n",
              "      <td>Nazri Nor</td>\n",
              "      <td>1.0</td>\n",
              "      <td>I have the worse buffer dinner ever so far. Th...</td>\n",
              "      <td>Cuisines Restaurant</td>\n",
              "      <td>Ipoh</td>\n",
              "    </tr>\n",
              "    <tr>\n",
              "      <th>4</th>\n",
              "      <td>Fakru Imran's Channel</td>\n",
              "      <td>5.0</td>\n",
              "      <td>That's are Known 5 Elmark \" 9H72 \" &amp; KDK \" 3 K...</td>\n",
              "      <td>Cuisines Restaurant</td>\n",
              "      <td>Ipoh</td>\n",
              "    </tr>\n",
              "  </tbody>\n",
              "</table>\n",
              "</div>\n",
              "      <button class=\"colab-df-convert\" onclick=\"convertToInteractive('df-a7fc80f9-8e36-444c-832f-c429e2f2b957')\"\n",
              "              title=\"Convert this dataframe to an interactive table.\"\n",
              "              style=\"display:none;\">\n",
              "        \n",
              "  <svg xmlns=\"http://www.w3.org/2000/svg\" height=\"24px\"viewBox=\"0 0 24 24\"\n",
              "       width=\"24px\">\n",
              "    <path d=\"M0 0h24v24H0V0z\" fill=\"none\"/>\n",
              "    <path d=\"M18.56 5.44l.94 2.06.94-2.06 2.06-.94-2.06-.94-.94-2.06-.94 2.06-2.06.94zm-11 1L8.5 8.5l.94-2.06 2.06-.94-2.06-.94L8.5 2.5l-.94 2.06-2.06.94zm10 10l.94 2.06.94-2.06 2.06-.94-2.06-.94-.94-2.06-.94 2.06-2.06.94z\"/><path d=\"M17.41 7.96l-1.37-1.37c-.4-.4-.92-.59-1.43-.59-.52 0-1.04.2-1.43.59L10.3 9.45l-7.72 7.72c-.78.78-.78 2.05 0 2.83L4 21.41c.39.39.9.59 1.41.59.51 0 1.02-.2 1.41-.59l7.78-7.78 2.81-2.81c.8-.78.8-2.07 0-2.86zM5.41 20L4 18.59l7.72-7.72 1.47 1.35L5.41 20z\"/>\n",
              "  </svg>\n",
              "      </button>\n",
              "      \n",
              "  <style>\n",
              "    .colab-df-container {\n",
              "      display:flex;\n",
              "      flex-wrap:wrap;\n",
              "      gap: 12px;\n",
              "    }\n",
              "\n",
              "    .colab-df-convert {\n",
              "      background-color: #E8F0FE;\n",
              "      border: none;\n",
              "      border-radius: 50%;\n",
              "      cursor: pointer;\n",
              "      display: none;\n",
              "      fill: #1967D2;\n",
              "      height: 32px;\n",
              "      padding: 0 0 0 0;\n",
              "      width: 32px;\n",
              "    }\n",
              "\n",
              "    .colab-df-convert:hover {\n",
              "      background-color: #E2EBFA;\n",
              "      box-shadow: 0px 1px 2px rgba(60, 64, 67, 0.3), 0px 1px 3px 1px rgba(60, 64, 67, 0.15);\n",
              "      fill: #174EA6;\n",
              "    }\n",
              "\n",
              "    [theme=dark] .colab-df-convert {\n",
              "      background-color: #3B4455;\n",
              "      fill: #D2E3FC;\n",
              "    }\n",
              "\n",
              "    [theme=dark] .colab-df-convert:hover {\n",
              "      background-color: #434B5C;\n",
              "      box-shadow: 0px 1px 3px 1px rgba(0, 0, 0, 0.15);\n",
              "      filter: drop-shadow(0px 1px 2px rgba(0, 0, 0, 0.3));\n",
              "      fill: #FFFFFF;\n",
              "    }\n",
              "  </style>\n",
              "\n",
              "      <script>\n",
              "        const buttonEl =\n",
              "          document.querySelector('#df-a7fc80f9-8e36-444c-832f-c429e2f2b957 button.colab-df-convert');\n",
              "        buttonEl.style.display =\n",
              "          google.colab.kernel.accessAllowed ? 'block' : 'none';\n",
              "\n",
              "        async function convertToInteractive(key) {\n",
              "          const element = document.querySelector('#df-a7fc80f9-8e36-444c-832f-c429e2f2b957');\n",
              "          const dataTable =\n",
              "            await google.colab.kernel.invokeFunction('convertToInteractive',\n",
              "                                                     [key], {});\n",
              "          if (!dataTable) return;\n",
              "\n",
              "          const docLinkHtml = 'Like what you see? Visit the ' +\n",
              "            '<a target=\"_blank\" href=https://colab.research.google.com/notebooks/data_table.ipynb>data table notebook</a>'\n",
              "            + ' to learn more about interactive tables.';\n",
              "          element.innerHTML = '';\n",
              "          dataTable['output_type'] = 'display_data';\n",
              "          await google.colab.output.renderOutput(dataTable, element);\n",
              "          const docLink = document.createElement('div');\n",
              "          docLink.innerHTML = docLinkHtml;\n",
              "          element.appendChild(docLink);\n",
              "        }\n",
              "      </script>\n",
              "    </div>\n",
              "  </div>\n",
              "  "
            ]
          },
          "metadata": {}
        },
        {
          "output_type": "display_data",
          "data": {
            "text/plain": [
              "                            Author  \\\n",
              "0                        kmc1e2018   \n",
              "1  MizOthmanKuala Lumpur, Malaysia   \n",
              "2  Relax36268533224Hjarno, Denmark   \n",
              "3                           tstrry   \n",
              "4                   Naim_123456789   \n",
              "\n",
              "                                               Title  \\\n",
              "0                             Chambers Bar and Grill   \n",
              "1             Always a pleasure. Place to celebrate.   \n",
              "2  Enjoying good service and good food after a lo...   \n",
              "3                            Great Steak for Couples   \n",
              "4                                             Dining   \n",
              "\n",
              "                                              Review  Rating  \\\n",
              "0  David, Thanga, Mikail and Chef Steven gave bri...     5.0   \n",
              "1  We visited for family celebration and as usual...     5.0   \n",
              "2  Perfect dinner after a long journey.After trav...     5.0   \n",
              "3  Had a great Tomahawk for me and hubby thanks t...     5.0   \n",
              "4  Excellent ambient. Excellent service by David,...     5.0   \n",
              "\n",
              "                  Dates      Restaurant Location  \n",
              "0   Reviewed yesterday   Chambers Grill       KL  \n",
              "1  Reviewed 5 days ago   Chambers Grill       KL  \n",
              "2  Reviewed 1 week ago   Chambers Grill       KL  \n",
              "3  Reviewed 1 week ago   Chambers Grill       KL  \n",
              "4  Reviewed 1 week ago   Chambers Grill       KL  "
            ],
            "text/html": [
              "\n",
              "  <div id=\"df-82b378c2-8303-4702-911f-0fe103d593d1\">\n",
              "    <div class=\"colab-df-container\">\n",
              "      <div>\n",
              "<style scoped>\n",
              "    .dataframe tbody tr th:only-of-type {\n",
              "        vertical-align: middle;\n",
              "    }\n",
              "\n",
              "    .dataframe tbody tr th {\n",
              "        vertical-align: top;\n",
              "    }\n",
              "\n",
              "    .dataframe thead th {\n",
              "        text-align: right;\n",
              "    }\n",
              "</style>\n",
              "<table border=\"1\" class=\"dataframe\">\n",
              "  <thead>\n",
              "    <tr style=\"text-align: right;\">\n",
              "      <th></th>\n",
              "      <th>Author</th>\n",
              "      <th>Title</th>\n",
              "      <th>Review</th>\n",
              "      <th>Rating</th>\n",
              "      <th>Dates</th>\n",
              "      <th>Restaurant</th>\n",
              "      <th>Location</th>\n",
              "    </tr>\n",
              "  </thead>\n",
              "  <tbody>\n",
              "    <tr>\n",
              "      <th>0</th>\n",
              "      <td>kmc1e2018</td>\n",
              "      <td>Chambers Bar and Grill</td>\n",
              "      <td>David, Thanga, Mikail and Chef Steven gave bri...</td>\n",
              "      <td>5.0</td>\n",
              "      <td>Reviewed yesterday</td>\n",
              "      <td>Chambers Grill</td>\n",
              "      <td>KL</td>\n",
              "    </tr>\n",
              "    <tr>\n",
              "      <th>1</th>\n",
              "      <td>MizOthmanKuala Lumpur, Malaysia</td>\n",
              "      <td>Always a pleasure. Place to celebrate.</td>\n",
              "      <td>We visited for family celebration and as usual...</td>\n",
              "      <td>5.0</td>\n",
              "      <td>Reviewed 5 days ago</td>\n",
              "      <td>Chambers Grill</td>\n",
              "      <td>KL</td>\n",
              "    </tr>\n",
              "    <tr>\n",
              "      <th>2</th>\n",
              "      <td>Relax36268533224Hjarno, Denmark</td>\n",
              "      <td>Enjoying good service and good food after a lo...</td>\n",
              "      <td>Perfect dinner after a long journey.After trav...</td>\n",
              "      <td>5.0</td>\n",
              "      <td>Reviewed 1 week ago</td>\n",
              "      <td>Chambers Grill</td>\n",
              "      <td>KL</td>\n",
              "    </tr>\n",
              "    <tr>\n",
              "      <th>3</th>\n",
              "      <td>tstrry</td>\n",
              "      <td>Great Steak for Couples</td>\n",
              "      <td>Had a great Tomahawk for me and hubby thanks t...</td>\n",
              "      <td>5.0</td>\n",
              "      <td>Reviewed 1 week ago</td>\n",
              "      <td>Chambers Grill</td>\n",
              "      <td>KL</td>\n",
              "    </tr>\n",
              "    <tr>\n",
              "      <th>4</th>\n",
              "      <td>Naim_123456789</td>\n",
              "      <td>Dining</td>\n",
              "      <td>Excellent ambient. Excellent service by David,...</td>\n",
              "      <td>5.0</td>\n",
              "      <td>Reviewed 1 week ago</td>\n",
              "      <td>Chambers Grill</td>\n",
              "      <td>KL</td>\n",
              "    </tr>\n",
              "  </tbody>\n",
              "</table>\n",
              "</div>\n",
              "      <button class=\"colab-df-convert\" onclick=\"convertToInteractive('df-82b378c2-8303-4702-911f-0fe103d593d1')\"\n",
              "              title=\"Convert this dataframe to an interactive table.\"\n",
              "              style=\"display:none;\">\n",
              "        \n",
              "  <svg xmlns=\"http://www.w3.org/2000/svg\" height=\"24px\"viewBox=\"0 0 24 24\"\n",
              "       width=\"24px\">\n",
              "    <path d=\"M0 0h24v24H0V0z\" fill=\"none\"/>\n",
              "    <path d=\"M18.56 5.44l.94 2.06.94-2.06 2.06-.94-2.06-.94-.94-2.06-.94 2.06-2.06.94zm-11 1L8.5 8.5l.94-2.06 2.06-.94-2.06-.94L8.5 2.5l-.94 2.06-2.06.94zm10 10l.94 2.06.94-2.06 2.06-.94-2.06-.94-.94-2.06-.94 2.06-2.06.94z\"/><path d=\"M17.41 7.96l-1.37-1.37c-.4-.4-.92-.59-1.43-.59-.52 0-1.04.2-1.43.59L10.3 9.45l-7.72 7.72c-.78.78-.78 2.05 0 2.83L4 21.41c.39.39.9.59 1.41.59.51 0 1.02-.2 1.41-.59l7.78-7.78 2.81-2.81c.8-.78.8-2.07 0-2.86zM5.41 20L4 18.59l7.72-7.72 1.47 1.35L5.41 20z\"/>\n",
              "  </svg>\n",
              "      </button>\n",
              "      \n",
              "  <style>\n",
              "    .colab-df-container {\n",
              "      display:flex;\n",
              "      flex-wrap:wrap;\n",
              "      gap: 12px;\n",
              "    }\n",
              "\n",
              "    .colab-df-convert {\n",
              "      background-color: #E8F0FE;\n",
              "      border: none;\n",
              "      border-radius: 50%;\n",
              "      cursor: pointer;\n",
              "      display: none;\n",
              "      fill: #1967D2;\n",
              "      height: 32px;\n",
              "      padding: 0 0 0 0;\n",
              "      width: 32px;\n",
              "    }\n",
              "\n",
              "    .colab-df-convert:hover {\n",
              "      background-color: #E2EBFA;\n",
              "      box-shadow: 0px 1px 2px rgba(60, 64, 67, 0.3), 0px 1px 3px 1px rgba(60, 64, 67, 0.15);\n",
              "      fill: #174EA6;\n",
              "    }\n",
              "\n",
              "    [theme=dark] .colab-df-convert {\n",
              "      background-color: #3B4455;\n",
              "      fill: #D2E3FC;\n",
              "    }\n",
              "\n",
              "    [theme=dark] .colab-df-convert:hover {\n",
              "      background-color: #434B5C;\n",
              "      box-shadow: 0px 1px 3px 1px rgba(0, 0, 0, 0.15);\n",
              "      filter: drop-shadow(0px 1px 2px rgba(0, 0, 0, 0.3));\n",
              "      fill: #FFFFFF;\n",
              "    }\n",
              "  </style>\n",
              "\n",
              "      <script>\n",
              "        const buttonEl =\n",
              "          document.querySelector('#df-82b378c2-8303-4702-911f-0fe103d593d1 button.colab-df-convert');\n",
              "        buttonEl.style.display =\n",
              "          google.colab.kernel.accessAllowed ? 'block' : 'none';\n",
              "\n",
              "        async function convertToInteractive(key) {\n",
              "          const element = document.querySelector('#df-82b378c2-8303-4702-911f-0fe103d593d1');\n",
              "          const dataTable =\n",
              "            await google.colab.kernel.invokeFunction('convertToInteractive',\n",
              "                                                     [key], {});\n",
              "          if (!dataTable) return;\n",
              "\n",
              "          const docLinkHtml = 'Like what you see? Visit the ' +\n",
              "            '<a target=\"_blank\" href=https://colab.research.google.com/notebooks/data_table.ipynb>data table notebook</a>'\n",
              "            + ' to learn more about interactive tables.';\n",
              "          element.innerHTML = '';\n",
              "          dataTable['output_type'] = 'display_data';\n",
              "          await google.colab.output.renderOutput(dataTable, element);\n",
              "          const docLink = document.createElement('div');\n",
              "          docLink.innerHTML = docLinkHtml;\n",
              "          element.appendChild(docLink);\n",
              "        }\n",
              "      </script>\n",
              "    </div>\n",
              "  </div>\n",
              "  "
            ]
          },
          "metadata": {}
        }
      ],
      "source": [
        "# Google\n",
        "file_google = \"/content/drive/MyDrive/Colab Notebooks/GoogleReview_data_cleaned.csv\"\n",
        "df_G =pd.read_csv(file_google)\n",
        "# TripAdvisor\n",
        "file_TA = \"/content/drive/MyDrive/Colab Notebooks/TripAdvisor_data_cleaned.csv\"\n",
        "df_TA =pd.read_csv(file_TA)\n",
        "# Read raw data\n",
        "master_dir = os.getcwd()\n",
        "\n",
        "display(df_G.head(),df_TA.head())"
      ]
    },
    {
      "cell_type": "markdown",
      "metadata": {
        "id": "u0vucnGFVJJ5"
      },
      "source": [
        "## Data Preparation and Cleaning\n",
        "\n",
        "**Step 1** - Concatenate the two dataset into one big dataset for easier analysis process.\n",
        "\n"
      ]
    },
    {
      "cell_type": "code",
      "execution_count": null,
      "metadata": {
        "id": "nqciugWLVJJ4",
        "colab": {
          "base_uri": "https://localhost:8080/"
        },
        "outputId": "d3680c63-f707-4504-9e7c-1dfc7f0a69e5"
      },
      "outputs": [
        {
          "output_type": "stream",
          "name": "stdout",
          "text": [
            "                                 Author  \\\n",
            "0                             kmc1e2018   \n",
            "1       MizOthmanKuala Lumpur, Malaysia   \n",
            "2       Relax36268533224Hjarno, Denmark   \n",
            "3                                tstrry   \n",
            "4                        Naim_123456789   \n",
            "...                                 ...   \n",
            "222015                       Arun Sagar   \n",
            "222016                   Asif Amir Khan   \n",
            "222017                           saads7   \n",
            "222018                            S. R.   \n",
            "222019                     Nurul Jannah   \n",
            "\n",
            "                                                    Title  \\\n",
            "0                                  Chambers Bar and Grill   \n",
            "1                  Always a pleasure. Place to celebrate.   \n",
            "2       Enjoying good service and good food after a lo...   \n",
            "3                                 Great Steak for Couples   \n",
            "4                                                  Dining   \n",
            "...                                                   ...   \n",
            "222015                                                NaN   \n",
            "222016                                                NaN   \n",
            "222017                                                NaN   \n",
            "222018                                                NaN   \n",
            "222019                                                NaN   \n",
            "\n",
            "                                                   Review  Rating  \\\n",
            "0       David, Thanga, Mikail and Chef Steven gave bri...     5.0   \n",
            "1       We visited for family celebration and as usual...     5.0   \n",
            "2       Perfect dinner after a long journey.After trav...     5.0   \n",
            "3       Had a great Tomahawk for me and hubby thanks t...     5.0   \n",
            "4       Excellent ambient. Excellent service by David,...     5.0   \n",
            "...                                                   ...     ...   \n",
            "222015    Good lamb kebabs, nice traditional mughlai food     5.0   \n",
            "222016  Pakistani food lovers must visit this place in...     5.0   \n",
            "222017       Great food, open air dining, freshly cooked.     5.0   \n",
            "222018               Good desi food. Ask for salam waiter     5.0   \n",
            "222019  A lot of tasty Pakistani dishes for ramadhan b...     5.0   \n",
            "\n",
            "                       Dates      Restaurant       Location  \n",
            "0        Reviewed yesterday   Chambers Grill             KL  \n",
            "1       Reviewed 5 days ago   Chambers Grill             KL  \n",
            "2       Reviewed 1 week ago   Chambers Grill             KL  \n",
            "3       Reviewed 1 week ago   Chambers Grill             KL  \n",
            "4       Reviewed 1 week ago   Chambers Grill             KL  \n",
            "...                      ...             ...            ...  \n",
            "222015                   NaN      BBQ NIGHTS  Petaling Jaya  \n",
            "222016                   NaN      BBQ NIGHTS  Petaling Jaya  \n",
            "222017                   NaN      BBQ NIGHTS  Petaling Jaya  \n",
            "222018                   NaN      BBQ NIGHTS  Petaling Jaya  \n",
            "222019                   NaN      BBQ NIGHTS  Petaling Jaya  \n",
            "\n",
            "[361784 rows x 7 columns]\n"
          ]
        }
      ],
      "source": [
        "# combine reviews\n",
        "df = pd.concat([df_TA, df_G], axis=0)\n",
        "df_ori = df.copy()\n",
        "print(df_ori)"
      ]
    },
    {
      "cell_type": "code",
      "execution_count": null,
      "metadata": {
        "id": "Rsgjn7WZVJJ4",
        "colab": {
          "base_uri": "https://localhost:8080/"
        },
        "outputId": "e4fbac0f-adf8-4ea4-c7da-5f0fae76a9e1"
      },
      "outputs": [
        {
          "output_type": "stream",
          "name": "stdout",
          "text": [
            "Sample Number: 361784\n"
          ]
        }
      ],
      "source": [
        "# number of records\n",
        "sampleNum = df.index.size\n",
        "print(f\"Sample Number: {sampleNum}\")"
      ]
    },
    {
      "cell_type": "code",
      "execution_count": null,
      "metadata": {
        "id": "8BlXZJt_VJJ5",
        "colab": {
          "base_uri": "https://localhost:8080/"
        },
        "outputId": "d08e214d-e0c7-4794-d872-033c7e035bdb"
      },
      "outputs": [
        {
          "output_type": "stream",
          "name": "stdout",
          "text": [
            "Unique Restaurants: 3515\n"
          ]
        }
      ],
      "source": [
        "# number of restaurants\n",
        "uniqueRestaurants = df['Restaurant'].unique().size\n",
        "print(f\"Unique Restaurants: {uniqueRestaurants}\")"
      ]
    },
    {
      "cell_type": "markdown",
      "source": [
        "**Step 2** - Display the dataset first to have an overview of what kind of data we have."
      ],
      "metadata": {
        "id": "W2n_Dzeorq7Y"
      }
    },
    {
      "cell_type": "code",
      "execution_count": null,
      "metadata": {
        "id": "fVjJerS1VJJ5",
        "colab": {
          "base_uri": "https://localhost:8080/",
          "height": 424
        },
        "outputId": "b9e76f9c-fd5e-4fe3-a63a-cc4c53249998"
      },
      "outputs": [
        {
          "output_type": "display_data",
          "data": {
            "text/plain": [
              "                                 Author  \\\n",
              "0                             kmc1e2018   \n",
              "1       MizOthmanKuala Lumpur, Malaysia   \n",
              "2       Relax36268533224Hjarno, Denmark   \n",
              "3                                tstrry   \n",
              "4                        Naim_123456789   \n",
              "...                                 ...   \n",
              "222015                       Arun Sagar   \n",
              "222016                   Asif Amir Khan   \n",
              "222017                           saads7   \n",
              "222018                            S. R.   \n",
              "222019                     Nurul Jannah   \n",
              "\n",
              "                                                    Title  \\\n",
              "0                                  Chambers Bar and Grill   \n",
              "1                  Always a pleasure. Place to celebrate.   \n",
              "2       Enjoying good service and good food after a lo...   \n",
              "3                                 Great Steak for Couples   \n",
              "4                                                  Dining   \n",
              "...                                                   ...   \n",
              "222015                                                NaN   \n",
              "222016                                                NaN   \n",
              "222017                                                NaN   \n",
              "222018                                                NaN   \n",
              "222019                                                NaN   \n",
              "\n",
              "                                                   Review  Rating  \\\n",
              "0       David, Thanga, Mikail and Chef Steven gave bri...     5.0   \n",
              "1       We visited for family celebration and as usual...     5.0   \n",
              "2       Perfect dinner after a long journey.After trav...     5.0   \n",
              "3       Had a great Tomahawk for me and hubby thanks t...     5.0   \n",
              "4       Excellent ambient. Excellent service by David,...     5.0   \n",
              "...                                                   ...     ...   \n",
              "222015    Good lamb kebabs, nice traditional mughlai food     5.0   \n",
              "222016  Pakistani food lovers must visit this place in...     5.0   \n",
              "222017       Great food, open air dining, freshly cooked.     5.0   \n",
              "222018               Good desi food. Ask for salam waiter     5.0   \n",
              "222019  A lot of tasty Pakistani dishes for ramadhan b...     5.0   \n",
              "\n",
              "                       Dates      Restaurant       Location  \n",
              "0        Reviewed yesterday   Chambers Grill             KL  \n",
              "1       Reviewed 5 days ago   Chambers Grill             KL  \n",
              "2       Reviewed 1 week ago   Chambers Grill             KL  \n",
              "3       Reviewed 1 week ago   Chambers Grill             KL  \n",
              "4       Reviewed 1 week ago   Chambers Grill             KL  \n",
              "...                      ...             ...            ...  \n",
              "222015                   NaN      BBQ NIGHTS  Petaling Jaya  \n",
              "222016                   NaN      BBQ NIGHTS  Petaling Jaya  \n",
              "222017                   NaN      BBQ NIGHTS  Petaling Jaya  \n",
              "222018                   NaN      BBQ NIGHTS  Petaling Jaya  \n",
              "222019                   NaN      BBQ NIGHTS  Petaling Jaya  \n",
              "\n",
              "[361784 rows x 7 columns]"
            ],
            "text/html": [
              "\n",
              "  <div id=\"df-e9512061-7029-4584-99af-3bab4a9e62c2\">\n",
              "    <div class=\"colab-df-container\">\n",
              "      <div>\n",
              "<style scoped>\n",
              "    .dataframe tbody tr th:only-of-type {\n",
              "        vertical-align: middle;\n",
              "    }\n",
              "\n",
              "    .dataframe tbody tr th {\n",
              "        vertical-align: top;\n",
              "    }\n",
              "\n",
              "    .dataframe thead th {\n",
              "        text-align: right;\n",
              "    }\n",
              "</style>\n",
              "<table border=\"1\" class=\"dataframe\">\n",
              "  <thead>\n",
              "    <tr style=\"text-align: right;\">\n",
              "      <th></th>\n",
              "      <th>Author</th>\n",
              "      <th>Title</th>\n",
              "      <th>Review</th>\n",
              "      <th>Rating</th>\n",
              "      <th>Dates</th>\n",
              "      <th>Restaurant</th>\n",
              "      <th>Location</th>\n",
              "    </tr>\n",
              "  </thead>\n",
              "  <tbody>\n",
              "    <tr>\n",
              "      <th>0</th>\n",
              "      <td>kmc1e2018</td>\n",
              "      <td>Chambers Bar and Grill</td>\n",
              "      <td>David, Thanga, Mikail and Chef Steven gave bri...</td>\n",
              "      <td>5.0</td>\n",
              "      <td>Reviewed yesterday</td>\n",
              "      <td>Chambers Grill</td>\n",
              "      <td>KL</td>\n",
              "    </tr>\n",
              "    <tr>\n",
              "      <th>1</th>\n",
              "      <td>MizOthmanKuala Lumpur, Malaysia</td>\n",
              "      <td>Always a pleasure. Place to celebrate.</td>\n",
              "      <td>We visited for family celebration and as usual...</td>\n",
              "      <td>5.0</td>\n",
              "      <td>Reviewed 5 days ago</td>\n",
              "      <td>Chambers Grill</td>\n",
              "      <td>KL</td>\n",
              "    </tr>\n",
              "    <tr>\n",
              "      <th>2</th>\n",
              "      <td>Relax36268533224Hjarno, Denmark</td>\n",
              "      <td>Enjoying good service and good food after a lo...</td>\n",
              "      <td>Perfect dinner after a long journey.After trav...</td>\n",
              "      <td>5.0</td>\n",
              "      <td>Reviewed 1 week ago</td>\n",
              "      <td>Chambers Grill</td>\n",
              "      <td>KL</td>\n",
              "    </tr>\n",
              "    <tr>\n",
              "      <th>3</th>\n",
              "      <td>tstrry</td>\n",
              "      <td>Great Steak for Couples</td>\n",
              "      <td>Had a great Tomahawk for me and hubby thanks t...</td>\n",
              "      <td>5.0</td>\n",
              "      <td>Reviewed 1 week ago</td>\n",
              "      <td>Chambers Grill</td>\n",
              "      <td>KL</td>\n",
              "    </tr>\n",
              "    <tr>\n",
              "      <th>4</th>\n",
              "      <td>Naim_123456789</td>\n",
              "      <td>Dining</td>\n",
              "      <td>Excellent ambient. Excellent service by David,...</td>\n",
              "      <td>5.0</td>\n",
              "      <td>Reviewed 1 week ago</td>\n",
              "      <td>Chambers Grill</td>\n",
              "      <td>KL</td>\n",
              "    </tr>\n",
              "    <tr>\n",
              "      <th>...</th>\n",
              "      <td>...</td>\n",
              "      <td>...</td>\n",
              "      <td>...</td>\n",
              "      <td>...</td>\n",
              "      <td>...</td>\n",
              "      <td>...</td>\n",
              "      <td>...</td>\n",
              "    </tr>\n",
              "    <tr>\n",
              "      <th>222015</th>\n",
              "      <td>Arun Sagar</td>\n",
              "      <td>NaN</td>\n",
              "      <td>Good lamb kebabs, nice traditional mughlai food</td>\n",
              "      <td>5.0</td>\n",
              "      <td>NaN</td>\n",
              "      <td>BBQ NIGHTS</td>\n",
              "      <td>Petaling Jaya</td>\n",
              "    </tr>\n",
              "    <tr>\n",
              "      <th>222016</th>\n",
              "      <td>Asif Amir Khan</td>\n",
              "      <td>NaN</td>\n",
              "      <td>Pakistani food lovers must visit this place in...</td>\n",
              "      <td>5.0</td>\n",
              "      <td>NaN</td>\n",
              "      <td>BBQ NIGHTS</td>\n",
              "      <td>Petaling Jaya</td>\n",
              "    </tr>\n",
              "    <tr>\n",
              "      <th>222017</th>\n",
              "      <td>saads7</td>\n",
              "      <td>NaN</td>\n",
              "      <td>Great food, open air dining, freshly cooked.</td>\n",
              "      <td>5.0</td>\n",
              "      <td>NaN</td>\n",
              "      <td>BBQ NIGHTS</td>\n",
              "      <td>Petaling Jaya</td>\n",
              "    </tr>\n",
              "    <tr>\n",
              "      <th>222018</th>\n",
              "      <td>S. R.</td>\n",
              "      <td>NaN</td>\n",
              "      <td>Good desi food. Ask for salam waiter</td>\n",
              "      <td>5.0</td>\n",
              "      <td>NaN</td>\n",
              "      <td>BBQ NIGHTS</td>\n",
              "      <td>Petaling Jaya</td>\n",
              "    </tr>\n",
              "    <tr>\n",
              "      <th>222019</th>\n",
              "      <td>Nurul Jannah</td>\n",
              "      <td>NaN</td>\n",
              "      <td>A lot of tasty Pakistani dishes for ramadhan b...</td>\n",
              "      <td>5.0</td>\n",
              "      <td>NaN</td>\n",
              "      <td>BBQ NIGHTS</td>\n",
              "      <td>Petaling Jaya</td>\n",
              "    </tr>\n",
              "  </tbody>\n",
              "</table>\n",
              "<p>361784 rows × 7 columns</p>\n",
              "</div>\n",
              "      <button class=\"colab-df-convert\" onclick=\"convertToInteractive('df-e9512061-7029-4584-99af-3bab4a9e62c2')\"\n",
              "              title=\"Convert this dataframe to an interactive table.\"\n",
              "              style=\"display:none;\">\n",
              "        \n",
              "  <svg xmlns=\"http://www.w3.org/2000/svg\" height=\"24px\"viewBox=\"0 0 24 24\"\n",
              "       width=\"24px\">\n",
              "    <path d=\"M0 0h24v24H0V0z\" fill=\"none\"/>\n",
              "    <path d=\"M18.56 5.44l.94 2.06.94-2.06 2.06-.94-2.06-.94-.94-2.06-.94 2.06-2.06.94zm-11 1L8.5 8.5l.94-2.06 2.06-.94-2.06-.94L8.5 2.5l-.94 2.06-2.06.94zm10 10l.94 2.06.94-2.06 2.06-.94-2.06-.94-.94-2.06-.94 2.06-2.06.94z\"/><path d=\"M17.41 7.96l-1.37-1.37c-.4-.4-.92-.59-1.43-.59-.52 0-1.04.2-1.43.59L10.3 9.45l-7.72 7.72c-.78.78-.78 2.05 0 2.83L4 21.41c.39.39.9.59 1.41.59.51 0 1.02-.2 1.41-.59l7.78-7.78 2.81-2.81c.8-.78.8-2.07 0-2.86zM5.41 20L4 18.59l7.72-7.72 1.47 1.35L5.41 20z\"/>\n",
              "  </svg>\n",
              "      </button>\n",
              "      \n",
              "  <style>\n",
              "    .colab-df-container {\n",
              "      display:flex;\n",
              "      flex-wrap:wrap;\n",
              "      gap: 12px;\n",
              "    }\n",
              "\n",
              "    .colab-df-convert {\n",
              "      background-color: #E8F0FE;\n",
              "      border: none;\n",
              "      border-radius: 50%;\n",
              "      cursor: pointer;\n",
              "      display: none;\n",
              "      fill: #1967D2;\n",
              "      height: 32px;\n",
              "      padding: 0 0 0 0;\n",
              "      width: 32px;\n",
              "    }\n",
              "\n",
              "    .colab-df-convert:hover {\n",
              "      background-color: #E2EBFA;\n",
              "      box-shadow: 0px 1px 2px rgba(60, 64, 67, 0.3), 0px 1px 3px 1px rgba(60, 64, 67, 0.15);\n",
              "      fill: #174EA6;\n",
              "    }\n",
              "\n",
              "    [theme=dark] .colab-df-convert {\n",
              "      background-color: #3B4455;\n",
              "      fill: #D2E3FC;\n",
              "    }\n",
              "\n",
              "    [theme=dark] .colab-df-convert:hover {\n",
              "      background-color: #434B5C;\n",
              "      box-shadow: 0px 1px 3px 1px rgba(0, 0, 0, 0.15);\n",
              "      filter: drop-shadow(0px 1px 2px rgba(0, 0, 0, 0.3));\n",
              "      fill: #FFFFFF;\n",
              "    }\n",
              "  </style>\n",
              "\n",
              "      <script>\n",
              "        const buttonEl =\n",
              "          document.querySelector('#df-e9512061-7029-4584-99af-3bab4a9e62c2 button.colab-df-convert');\n",
              "        buttonEl.style.display =\n",
              "          google.colab.kernel.accessAllowed ? 'block' : 'none';\n",
              "\n",
              "        async function convertToInteractive(key) {\n",
              "          const element = document.querySelector('#df-e9512061-7029-4584-99af-3bab4a9e62c2');\n",
              "          const dataTable =\n",
              "            await google.colab.kernel.invokeFunction('convertToInteractive',\n",
              "                                                     [key], {});\n",
              "          if (!dataTable) return;\n",
              "\n",
              "          const docLinkHtml = 'Like what you see? Visit the ' +\n",
              "            '<a target=\"_blank\" href=https://colab.research.google.com/notebooks/data_table.ipynb>data table notebook</a>'\n",
              "            + ' to learn more about interactive tables.';\n",
              "          element.innerHTML = '';\n",
              "          dataTable['output_type'] = 'display_data';\n",
              "          await google.colab.output.renderOutput(dataTable, element);\n",
              "          const docLink = document.createElement('div');\n",
              "          docLink.innerHTML = docLinkHtml;\n",
              "          element.appendChild(docLink);\n",
              "        }\n",
              "      </script>\n",
              "    </div>\n",
              "  </div>\n",
              "  "
            ]
          },
          "metadata": {}
        }
      ],
      "source": [
        "display(df_ori)"
      ]
    },
    {
      "cell_type": "markdown",
      "source": [
        "**Step 3** - Clean the dataset by adding a new column name \"Label\" which contain value \"Positive\", \"Negative\", or \"Neutral\" to reflect the rating of each review using the \"Review\" and \"Rating\" column"
      ],
      "metadata": {
        "id": "RzbbhNiGr1F4"
      }
    },
    {
      "cell_type": "code",
      "source": [
        "# Subset wanted columns\n",
        "df = df[['Review', 'Rating']]\n",
        "df.drop_duplicates(inplace=True)\n",
        "df.reset_index(drop=True, inplace=True)\n",
        "display(df)"
      ],
      "metadata": {
        "colab": {
          "base_uri": "https://localhost:8080/",
          "height": 424
        },
        "id": "NTx40-_VXfaH",
        "outputId": "ff5b764a-3637-47ec-f6d5-8a2a680dde13"
      },
      "execution_count": null,
      "outputs": [
        {
          "output_type": "display_data",
          "data": {
            "text/plain": [
              "                                                   Review  Rating\n",
              "0       David, Thanga, Mikail and Chef Steven gave bri...     5.0\n",
              "1       We visited for family celebration and as usual...     5.0\n",
              "2       Perfect dinner after a long journey.After trav...     5.0\n",
              "3       Had a great Tomahawk for me and hubby thanks t...     5.0\n",
              "4       Excellent ambient. Excellent service by David,...     5.0\n",
              "...                                                   ...     ...\n",
              "339690  Delicious food. I passed by this place while s...     5.0\n",
              "339691  To put it mildly, Horrible food, Horrible cust...     1.0\n",
              "339692  Good vegetarian selection and the food was gre...     4.0\n",
              "339693  Simple atmosphere with fresh air (on a rainy n...     5.0\n",
              "339694                             Very good Cheese Naan!     5.0\n",
              "\n",
              "[339695 rows x 2 columns]"
            ],
            "text/html": [
              "\n",
              "  <div id=\"df-411565b4-9fc5-4c91-af41-5e1ac91289d1\">\n",
              "    <div class=\"colab-df-container\">\n",
              "      <div>\n",
              "<style scoped>\n",
              "    .dataframe tbody tr th:only-of-type {\n",
              "        vertical-align: middle;\n",
              "    }\n",
              "\n",
              "    .dataframe tbody tr th {\n",
              "        vertical-align: top;\n",
              "    }\n",
              "\n",
              "    .dataframe thead th {\n",
              "        text-align: right;\n",
              "    }\n",
              "</style>\n",
              "<table border=\"1\" class=\"dataframe\">\n",
              "  <thead>\n",
              "    <tr style=\"text-align: right;\">\n",
              "      <th></th>\n",
              "      <th>Review</th>\n",
              "      <th>Rating</th>\n",
              "    </tr>\n",
              "  </thead>\n",
              "  <tbody>\n",
              "    <tr>\n",
              "      <th>0</th>\n",
              "      <td>David, Thanga, Mikail and Chef Steven gave bri...</td>\n",
              "      <td>5.0</td>\n",
              "    </tr>\n",
              "    <tr>\n",
              "      <th>1</th>\n",
              "      <td>We visited for family celebration and as usual...</td>\n",
              "      <td>5.0</td>\n",
              "    </tr>\n",
              "    <tr>\n",
              "      <th>2</th>\n",
              "      <td>Perfect dinner after a long journey.After trav...</td>\n",
              "      <td>5.0</td>\n",
              "    </tr>\n",
              "    <tr>\n",
              "      <th>3</th>\n",
              "      <td>Had a great Tomahawk for me and hubby thanks t...</td>\n",
              "      <td>5.0</td>\n",
              "    </tr>\n",
              "    <tr>\n",
              "      <th>4</th>\n",
              "      <td>Excellent ambient. Excellent service by David,...</td>\n",
              "      <td>5.0</td>\n",
              "    </tr>\n",
              "    <tr>\n",
              "      <th>...</th>\n",
              "      <td>...</td>\n",
              "      <td>...</td>\n",
              "    </tr>\n",
              "    <tr>\n",
              "      <th>339690</th>\n",
              "      <td>Delicious food. I passed by this place while s...</td>\n",
              "      <td>5.0</td>\n",
              "    </tr>\n",
              "    <tr>\n",
              "      <th>339691</th>\n",
              "      <td>To put it mildly, Horrible food, Horrible cust...</td>\n",
              "      <td>1.0</td>\n",
              "    </tr>\n",
              "    <tr>\n",
              "      <th>339692</th>\n",
              "      <td>Good vegetarian selection and the food was gre...</td>\n",
              "      <td>4.0</td>\n",
              "    </tr>\n",
              "    <tr>\n",
              "      <th>339693</th>\n",
              "      <td>Simple atmosphere with fresh air (on a rainy n...</td>\n",
              "      <td>5.0</td>\n",
              "    </tr>\n",
              "    <tr>\n",
              "      <th>339694</th>\n",
              "      <td>Very good Cheese Naan!</td>\n",
              "      <td>5.0</td>\n",
              "    </tr>\n",
              "  </tbody>\n",
              "</table>\n",
              "<p>339695 rows × 2 columns</p>\n",
              "</div>\n",
              "      <button class=\"colab-df-convert\" onclick=\"convertToInteractive('df-411565b4-9fc5-4c91-af41-5e1ac91289d1')\"\n",
              "              title=\"Convert this dataframe to an interactive table.\"\n",
              "              style=\"display:none;\">\n",
              "        \n",
              "  <svg xmlns=\"http://www.w3.org/2000/svg\" height=\"24px\"viewBox=\"0 0 24 24\"\n",
              "       width=\"24px\">\n",
              "    <path d=\"M0 0h24v24H0V0z\" fill=\"none\"/>\n",
              "    <path d=\"M18.56 5.44l.94 2.06.94-2.06 2.06-.94-2.06-.94-.94-2.06-.94 2.06-2.06.94zm-11 1L8.5 8.5l.94-2.06 2.06-.94-2.06-.94L8.5 2.5l-.94 2.06-2.06.94zm10 10l.94 2.06.94-2.06 2.06-.94-2.06-.94-.94-2.06-.94 2.06-2.06.94z\"/><path d=\"M17.41 7.96l-1.37-1.37c-.4-.4-.92-.59-1.43-.59-.52 0-1.04.2-1.43.59L10.3 9.45l-7.72 7.72c-.78.78-.78 2.05 0 2.83L4 21.41c.39.39.9.59 1.41.59.51 0 1.02-.2 1.41-.59l7.78-7.78 2.81-2.81c.8-.78.8-2.07 0-2.86zM5.41 20L4 18.59l7.72-7.72 1.47 1.35L5.41 20z\"/>\n",
              "  </svg>\n",
              "      </button>\n",
              "      \n",
              "  <style>\n",
              "    .colab-df-container {\n",
              "      display:flex;\n",
              "      flex-wrap:wrap;\n",
              "      gap: 12px;\n",
              "    }\n",
              "\n",
              "    .colab-df-convert {\n",
              "      background-color: #E8F0FE;\n",
              "      border: none;\n",
              "      border-radius: 50%;\n",
              "      cursor: pointer;\n",
              "      display: none;\n",
              "      fill: #1967D2;\n",
              "      height: 32px;\n",
              "      padding: 0 0 0 0;\n",
              "      width: 32px;\n",
              "    }\n",
              "\n",
              "    .colab-df-convert:hover {\n",
              "      background-color: #E2EBFA;\n",
              "      box-shadow: 0px 1px 2px rgba(60, 64, 67, 0.3), 0px 1px 3px 1px rgba(60, 64, 67, 0.15);\n",
              "      fill: #174EA6;\n",
              "    }\n",
              "\n",
              "    [theme=dark] .colab-df-convert {\n",
              "      background-color: #3B4455;\n",
              "      fill: #D2E3FC;\n",
              "    }\n",
              "\n",
              "    [theme=dark] .colab-df-convert:hover {\n",
              "      background-color: #434B5C;\n",
              "      box-shadow: 0px 1px 3px 1px rgba(0, 0, 0, 0.15);\n",
              "      filter: drop-shadow(0px 1px 2px rgba(0, 0, 0, 0.3));\n",
              "      fill: #FFFFFF;\n",
              "    }\n",
              "  </style>\n",
              "\n",
              "      <script>\n",
              "        const buttonEl =\n",
              "          document.querySelector('#df-411565b4-9fc5-4c91-af41-5e1ac91289d1 button.colab-df-convert');\n",
              "        buttonEl.style.display =\n",
              "          google.colab.kernel.accessAllowed ? 'block' : 'none';\n",
              "\n",
              "        async function convertToInteractive(key) {\n",
              "          const element = document.querySelector('#df-411565b4-9fc5-4c91-af41-5e1ac91289d1');\n",
              "          const dataTable =\n",
              "            await google.colab.kernel.invokeFunction('convertToInteractive',\n",
              "                                                     [key], {});\n",
              "          if (!dataTable) return;\n",
              "\n",
              "          const docLinkHtml = 'Like what you see? Visit the ' +\n",
              "            '<a target=\"_blank\" href=https://colab.research.google.com/notebooks/data_table.ipynb>data table notebook</a>'\n",
              "            + ' to learn more about interactive tables.';\n",
              "          element.innerHTML = '';\n",
              "          dataTable['output_type'] = 'display_data';\n",
              "          await google.colab.output.renderOutput(dataTable, element);\n",
              "          const docLink = document.createElement('div');\n",
              "          docLink.innerHTML = docLinkHtml;\n",
              "          element.appendChild(docLink);\n",
              "        }\n",
              "      </script>\n",
              "    </div>\n",
              "  </div>\n",
              "  "
            ]
          },
          "metadata": {}
        }
      ]
    },
    {
      "cell_type": "code",
      "source": [
        "# Adding labels\n",
        "def labelFunc(x):\n",
        "    if int(x) > 3:\n",
        "        return \"Positive\"\n",
        "    elif int(x) < 3:\n",
        "        return \"Negative\"\n",
        "    elif int(x) == 3:\n",
        "        return \"Neutral\"\n",
        "\n",
        "# Add sentiment label\n",
        "df_ori[\"Label\"] = df_ori[\"Rating\"].apply(labelFunc)\n",
        "display(df_ori)"
      ],
      "metadata": {
        "colab": {
          "base_uri": "https://localhost:8080/",
          "height": 641
        },
        "id": "PTsJ1dQpXqPn",
        "outputId": "b6db494f-03f5-4c16-d147-a321c2560c79"
      },
      "execution_count": null,
      "outputs": [
        {
          "output_type": "display_data",
          "data": {
            "text/plain": [
              "                                 Author  \\\n",
              "0                             kmc1e2018   \n",
              "1       MizOthmanKuala Lumpur, Malaysia   \n",
              "2       Relax36268533224Hjarno, Denmark   \n",
              "3                                tstrry   \n",
              "4                        Naim_123456789   \n",
              "...                                 ...   \n",
              "222015                       Arun Sagar   \n",
              "222016                   Asif Amir Khan   \n",
              "222017                           saads7   \n",
              "222018                            S. R.   \n",
              "222019                     Nurul Jannah   \n",
              "\n",
              "                                                    Title  \\\n",
              "0                                  Chambers Bar and Grill   \n",
              "1                  Always a pleasure. Place to celebrate.   \n",
              "2       Enjoying good service and good food after a lo...   \n",
              "3                                 Great Steak for Couples   \n",
              "4                                                  Dining   \n",
              "...                                                   ...   \n",
              "222015                                                NaN   \n",
              "222016                                                NaN   \n",
              "222017                                                NaN   \n",
              "222018                                                NaN   \n",
              "222019                                                NaN   \n",
              "\n",
              "                                                   Review  Rating  \\\n",
              "0       David, Thanga, Mikail and Chef Steven gave bri...     5.0   \n",
              "1       We visited for family celebration and as usual...     5.0   \n",
              "2       Perfect dinner after a long journey.After trav...     5.0   \n",
              "3       Had a great Tomahawk for me and hubby thanks t...     5.0   \n",
              "4       Excellent ambient. Excellent service by David,...     5.0   \n",
              "...                                                   ...     ...   \n",
              "222015    Good lamb kebabs, nice traditional mughlai food     5.0   \n",
              "222016  Pakistani food lovers must visit this place in...     5.0   \n",
              "222017       Great food, open air dining, freshly cooked.     5.0   \n",
              "222018               Good desi food. Ask for salam waiter     5.0   \n",
              "222019  A lot of tasty Pakistani dishes for ramadhan b...     5.0   \n",
              "\n",
              "                       Dates      Restaurant       Location     Label  \n",
              "0        Reviewed yesterday   Chambers Grill             KL  Positive  \n",
              "1       Reviewed 5 days ago   Chambers Grill             KL  Positive  \n",
              "2       Reviewed 1 week ago   Chambers Grill             KL  Positive  \n",
              "3       Reviewed 1 week ago   Chambers Grill             KL  Positive  \n",
              "4       Reviewed 1 week ago   Chambers Grill             KL  Positive  \n",
              "...                      ...             ...            ...       ...  \n",
              "222015                   NaN      BBQ NIGHTS  Petaling Jaya  Positive  \n",
              "222016                   NaN      BBQ NIGHTS  Petaling Jaya  Positive  \n",
              "222017                   NaN      BBQ NIGHTS  Petaling Jaya  Positive  \n",
              "222018                   NaN      BBQ NIGHTS  Petaling Jaya  Positive  \n",
              "222019                   NaN      BBQ NIGHTS  Petaling Jaya  Positive  \n",
              "\n",
              "[361784 rows x 8 columns]"
            ],
            "text/html": [
              "\n",
              "  <div id=\"df-abb81f26-b83f-4ebc-8cf0-753c7e688d22\">\n",
              "    <div class=\"colab-df-container\">\n",
              "      <div>\n",
              "<style scoped>\n",
              "    .dataframe tbody tr th:only-of-type {\n",
              "        vertical-align: middle;\n",
              "    }\n",
              "\n",
              "    .dataframe tbody tr th {\n",
              "        vertical-align: top;\n",
              "    }\n",
              "\n",
              "    .dataframe thead th {\n",
              "        text-align: right;\n",
              "    }\n",
              "</style>\n",
              "<table border=\"1\" class=\"dataframe\">\n",
              "  <thead>\n",
              "    <tr style=\"text-align: right;\">\n",
              "      <th></th>\n",
              "      <th>Author</th>\n",
              "      <th>Title</th>\n",
              "      <th>Review</th>\n",
              "      <th>Rating</th>\n",
              "      <th>Dates</th>\n",
              "      <th>Restaurant</th>\n",
              "      <th>Location</th>\n",
              "      <th>Label</th>\n",
              "    </tr>\n",
              "  </thead>\n",
              "  <tbody>\n",
              "    <tr>\n",
              "      <th>0</th>\n",
              "      <td>kmc1e2018</td>\n",
              "      <td>Chambers Bar and Grill</td>\n",
              "      <td>David, Thanga, Mikail and Chef Steven gave bri...</td>\n",
              "      <td>5.0</td>\n",
              "      <td>Reviewed yesterday</td>\n",
              "      <td>Chambers Grill</td>\n",
              "      <td>KL</td>\n",
              "      <td>Positive</td>\n",
              "    </tr>\n",
              "    <tr>\n",
              "      <th>1</th>\n",
              "      <td>MizOthmanKuala Lumpur, Malaysia</td>\n",
              "      <td>Always a pleasure. Place to celebrate.</td>\n",
              "      <td>We visited for family celebration and as usual...</td>\n",
              "      <td>5.0</td>\n",
              "      <td>Reviewed 5 days ago</td>\n",
              "      <td>Chambers Grill</td>\n",
              "      <td>KL</td>\n",
              "      <td>Positive</td>\n",
              "    </tr>\n",
              "    <tr>\n",
              "      <th>2</th>\n",
              "      <td>Relax36268533224Hjarno, Denmark</td>\n",
              "      <td>Enjoying good service and good food after a lo...</td>\n",
              "      <td>Perfect dinner after a long journey.After trav...</td>\n",
              "      <td>5.0</td>\n",
              "      <td>Reviewed 1 week ago</td>\n",
              "      <td>Chambers Grill</td>\n",
              "      <td>KL</td>\n",
              "      <td>Positive</td>\n",
              "    </tr>\n",
              "    <tr>\n",
              "      <th>3</th>\n",
              "      <td>tstrry</td>\n",
              "      <td>Great Steak for Couples</td>\n",
              "      <td>Had a great Tomahawk for me and hubby thanks t...</td>\n",
              "      <td>5.0</td>\n",
              "      <td>Reviewed 1 week ago</td>\n",
              "      <td>Chambers Grill</td>\n",
              "      <td>KL</td>\n",
              "      <td>Positive</td>\n",
              "    </tr>\n",
              "    <tr>\n",
              "      <th>4</th>\n",
              "      <td>Naim_123456789</td>\n",
              "      <td>Dining</td>\n",
              "      <td>Excellent ambient. Excellent service by David,...</td>\n",
              "      <td>5.0</td>\n",
              "      <td>Reviewed 1 week ago</td>\n",
              "      <td>Chambers Grill</td>\n",
              "      <td>KL</td>\n",
              "      <td>Positive</td>\n",
              "    </tr>\n",
              "    <tr>\n",
              "      <th>...</th>\n",
              "      <td>...</td>\n",
              "      <td>...</td>\n",
              "      <td>...</td>\n",
              "      <td>...</td>\n",
              "      <td>...</td>\n",
              "      <td>...</td>\n",
              "      <td>...</td>\n",
              "      <td>...</td>\n",
              "    </tr>\n",
              "    <tr>\n",
              "      <th>222015</th>\n",
              "      <td>Arun Sagar</td>\n",
              "      <td>NaN</td>\n",
              "      <td>Good lamb kebabs, nice traditional mughlai food</td>\n",
              "      <td>5.0</td>\n",
              "      <td>NaN</td>\n",
              "      <td>BBQ NIGHTS</td>\n",
              "      <td>Petaling Jaya</td>\n",
              "      <td>Positive</td>\n",
              "    </tr>\n",
              "    <tr>\n",
              "      <th>222016</th>\n",
              "      <td>Asif Amir Khan</td>\n",
              "      <td>NaN</td>\n",
              "      <td>Pakistani food lovers must visit this place in...</td>\n",
              "      <td>5.0</td>\n",
              "      <td>NaN</td>\n",
              "      <td>BBQ NIGHTS</td>\n",
              "      <td>Petaling Jaya</td>\n",
              "      <td>Positive</td>\n",
              "    </tr>\n",
              "    <tr>\n",
              "      <th>222017</th>\n",
              "      <td>saads7</td>\n",
              "      <td>NaN</td>\n",
              "      <td>Great food, open air dining, freshly cooked.</td>\n",
              "      <td>5.0</td>\n",
              "      <td>NaN</td>\n",
              "      <td>BBQ NIGHTS</td>\n",
              "      <td>Petaling Jaya</td>\n",
              "      <td>Positive</td>\n",
              "    </tr>\n",
              "    <tr>\n",
              "      <th>222018</th>\n",
              "      <td>S. R.</td>\n",
              "      <td>NaN</td>\n",
              "      <td>Good desi food. Ask for salam waiter</td>\n",
              "      <td>5.0</td>\n",
              "      <td>NaN</td>\n",
              "      <td>BBQ NIGHTS</td>\n",
              "      <td>Petaling Jaya</td>\n",
              "      <td>Positive</td>\n",
              "    </tr>\n",
              "    <tr>\n",
              "      <th>222019</th>\n",
              "      <td>Nurul Jannah</td>\n",
              "      <td>NaN</td>\n",
              "      <td>A lot of tasty Pakistani dishes for ramadhan b...</td>\n",
              "      <td>5.0</td>\n",
              "      <td>NaN</td>\n",
              "      <td>BBQ NIGHTS</td>\n",
              "      <td>Petaling Jaya</td>\n",
              "      <td>Positive</td>\n",
              "    </tr>\n",
              "  </tbody>\n",
              "</table>\n",
              "<p>361784 rows × 8 columns</p>\n",
              "</div>\n",
              "      <button class=\"colab-df-convert\" onclick=\"convertToInteractive('df-abb81f26-b83f-4ebc-8cf0-753c7e688d22')\"\n",
              "              title=\"Convert this dataframe to an interactive table.\"\n",
              "              style=\"display:none;\">\n",
              "        \n",
              "  <svg xmlns=\"http://www.w3.org/2000/svg\" height=\"24px\"viewBox=\"0 0 24 24\"\n",
              "       width=\"24px\">\n",
              "    <path d=\"M0 0h24v24H0V0z\" fill=\"none\"/>\n",
              "    <path d=\"M18.56 5.44l.94 2.06.94-2.06 2.06-.94-2.06-.94-.94-2.06-.94 2.06-2.06.94zm-11 1L8.5 8.5l.94-2.06 2.06-.94-2.06-.94L8.5 2.5l-.94 2.06-2.06.94zm10 10l.94 2.06.94-2.06 2.06-.94-2.06-.94-.94-2.06-.94 2.06-2.06.94z\"/><path d=\"M17.41 7.96l-1.37-1.37c-.4-.4-.92-.59-1.43-.59-.52 0-1.04.2-1.43.59L10.3 9.45l-7.72 7.72c-.78.78-.78 2.05 0 2.83L4 21.41c.39.39.9.59 1.41.59.51 0 1.02-.2 1.41-.59l7.78-7.78 2.81-2.81c.8-.78.8-2.07 0-2.86zM5.41 20L4 18.59l7.72-7.72 1.47 1.35L5.41 20z\"/>\n",
              "  </svg>\n",
              "      </button>\n",
              "      \n",
              "  <style>\n",
              "    .colab-df-container {\n",
              "      display:flex;\n",
              "      flex-wrap:wrap;\n",
              "      gap: 12px;\n",
              "    }\n",
              "\n",
              "    .colab-df-convert {\n",
              "      background-color: #E8F0FE;\n",
              "      border: none;\n",
              "      border-radius: 50%;\n",
              "      cursor: pointer;\n",
              "      display: none;\n",
              "      fill: #1967D2;\n",
              "      height: 32px;\n",
              "      padding: 0 0 0 0;\n",
              "      width: 32px;\n",
              "    }\n",
              "\n",
              "    .colab-df-convert:hover {\n",
              "      background-color: #E2EBFA;\n",
              "      box-shadow: 0px 1px 2px rgba(60, 64, 67, 0.3), 0px 1px 3px 1px rgba(60, 64, 67, 0.15);\n",
              "      fill: #174EA6;\n",
              "    }\n",
              "\n",
              "    [theme=dark] .colab-df-convert {\n",
              "      background-color: #3B4455;\n",
              "      fill: #D2E3FC;\n",
              "    }\n",
              "\n",
              "    [theme=dark] .colab-df-convert:hover {\n",
              "      background-color: #434B5C;\n",
              "      box-shadow: 0px 1px 3px 1px rgba(0, 0, 0, 0.15);\n",
              "      filter: drop-shadow(0px 1px 2px rgba(0, 0, 0, 0.3));\n",
              "      fill: #FFFFFF;\n",
              "    }\n",
              "  </style>\n",
              "\n",
              "      <script>\n",
              "        const buttonEl =\n",
              "          document.querySelector('#df-abb81f26-b83f-4ebc-8cf0-753c7e688d22 button.colab-df-convert');\n",
              "        buttonEl.style.display =\n",
              "          google.colab.kernel.accessAllowed ? 'block' : 'none';\n",
              "\n",
              "        async function convertToInteractive(key) {\n",
              "          const element = document.querySelector('#df-abb81f26-b83f-4ebc-8cf0-753c7e688d22');\n",
              "          const dataTable =\n",
              "            await google.colab.kernel.invokeFunction('convertToInteractive',\n",
              "                                                     [key], {});\n",
              "          if (!dataTable) return;\n",
              "\n",
              "          const docLinkHtml = 'Like what you see? Visit the ' +\n",
              "            '<a target=\"_blank\" href=https://colab.research.google.com/notebooks/data_table.ipynb>data table notebook</a>'\n",
              "            + ' to learn more about interactive tables.';\n",
              "          element.innerHTML = '';\n",
              "          dataTable['output_type'] = 'display_data';\n",
              "          await google.colab.output.renderOutput(dataTable, element);\n",
              "          const docLink = document.createElement('div');\n",
              "          docLink.innerHTML = docLinkHtml;\n",
              "          element.appendChild(docLink);\n",
              "        }\n",
              "      </script>\n",
              "    </div>\n",
              "  </div>\n",
              "  "
            ]
          },
          "metadata": {}
        }
      ]
    },
    {
      "cell_type": "code",
      "execution_count": null,
      "metadata": {
        "id": "t26lvNVLVJJ5",
        "colab": {
          "base_uri": "https://localhost:8080/"
        },
        "outputId": "d40d793f-385a-4887-dbd0-728ce06ff68d"
      },
      "outputs": [
        {
          "output_type": "stream",
          "name": "stdout",
          "text": [
            "361784 rows\n"
          ]
        }
      ],
      "source": [
        "#number of rows\n",
        "count_row = df_ori.shape[0]\n",
        "print(count_row , \"rows\")"
      ]
    },
    {
      "cell_type": "code",
      "execution_count": null,
      "metadata": {
        "id": "KribcC_XVJJ5",
        "colab": {
          "base_uri": "https://localhost:8080/"
        },
        "outputId": "8f03a352-d71f-4c52-8a55-1a37efd4d930"
      },
      "outputs": [
        {
          "output_type": "stream",
          "name": "stdout",
          "text": [
            "8 columns\n"
          ]
        }
      ],
      "source": [
        "#number of columns\n",
        "count_col = df_ori.shape[1]\n",
        "print(count_col , \"columns\")"
      ]
    },
    {
      "cell_type": "code",
      "execution_count": null,
      "metadata": {
        "id": "7mUpY22aVJJ6",
        "colab": {
          "base_uri": "https://localhost:8080/"
        },
        "outputId": "8a10a042-5242-4f1a-c57f-ff8641ade384"
      },
      "outputs": [
        {
          "output_type": "stream",
          "name": "stdout",
          "text": [
            "Sample Number: 361784\n"
          ]
        }
      ],
      "source": [
        "# range of values\n",
        "sampleNum = df_ori.index.size\n",
        "print(f\"Sample Number: {sampleNum}\")"
      ]
    },
    {
      "cell_type": "markdown",
      "metadata": {
        "id": "_0m5LkbVVJJ6"
      },
      "source": [
        "## Exploratory Analysis and Visualization\n",
        "\n",
        "**Step 4** - Import statistical and visual library function to create graphs and bar charts. Begin by importingmatplotlib.pyplot and seaborn\n",
        "\n"
      ]
    },
    {
      "cell_type": "markdown",
      "metadata": {
        "id": "6knKGHajVJJ6"
      },
      "source": [
        "> Instructions (delete this cell)\n",
        "> \n",
        "> - Compute the mean, sum, range and other interesting statistics for numeric columns\n",
        "> - Explore distributions of numeric columns using histograms etc.\n",
        "> - Explore relationship between columns using scatter plots, bar charts etc.\n",
        "> - Make a note of interesting insights from the exploratory analysis"
      ]
    },
    {
      "cell_type": "code",
      "execution_count": null,
      "metadata": {
        "id": "zOTtwqAMVJJ7"
      },
      "outputs": [],
      "source": [
        "import seaborn as sns\n",
        "import matplotlib\n",
        "import matplotlib.pyplot as plt\n",
        "%matplotlib inline\n",
        "\n",
        "sns.set_style('darkgrid')\n",
        "matplotlib.rcParams['font.size'] = 14\n",
        "matplotlib.rcParams['figure.figsize'] = (9, 5)\n",
        "matplotlib.rcParams['figure.facecolor'] = '#00000000'"
      ]
    },
    {
      "cell_type": "markdown",
      "source": [
        "**Step 5** - Compute the mean, sum, range and other interesting statistics for \"Rating\" column."
      ],
      "metadata": {
        "id": "u7gcBKevlVE8"
      }
    },
    {
      "cell_type": "code",
      "source": [
        "print(\"The median for Rating column is:\",df['Rating'].median())\n",
        "print(\"The mean for Rating column is:\",round(df['Rating'].mean(), 2))\n",
        "print(\"The mode for Rating column is:\",df['Rating'].mode())\n",
        "\n",
        "round(df.describe(),2)"
      ],
      "metadata": {
        "colab": {
          "base_uri": "https://localhost:8080/",
          "height": 370
        },
        "id": "7QdsQoSlnCDW",
        "outputId": "599b0610-f40e-4a50-ea36-9bc5a43401a6"
      },
      "execution_count": null,
      "outputs": [
        {
          "output_type": "stream",
          "name": "stdout",
          "text": [
            "The median for Rating column is: 5.0\n",
            "The mean for Rating column is: 4.16\n",
            "The mode for Rating column is: 0    5.0\n",
            "dtype: float64\n"
          ]
        },
        {
          "output_type": "execute_result",
          "data": {
            "text/plain": [
              "          Rating\n",
              "count  339695.00\n",
              "mean        4.16\n",
              "std         1.10\n",
              "min         1.00\n",
              "25%         4.00\n",
              "50%         5.00\n",
              "75%         5.00\n",
              "max         5.00"
            ],
            "text/html": [
              "\n",
              "  <div id=\"df-e4d0cc4d-9d11-4435-9aa2-17cc412503d8\">\n",
              "    <div class=\"colab-df-container\">\n",
              "      <div>\n",
              "<style scoped>\n",
              "    .dataframe tbody tr th:only-of-type {\n",
              "        vertical-align: middle;\n",
              "    }\n",
              "\n",
              "    .dataframe tbody tr th {\n",
              "        vertical-align: top;\n",
              "    }\n",
              "\n",
              "    .dataframe thead th {\n",
              "        text-align: right;\n",
              "    }\n",
              "</style>\n",
              "<table border=\"1\" class=\"dataframe\">\n",
              "  <thead>\n",
              "    <tr style=\"text-align: right;\">\n",
              "      <th></th>\n",
              "      <th>Rating</th>\n",
              "    </tr>\n",
              "  </thead>\n",
              "  <tbody>\n",
              "    <tr>\n",
              "      <th>count</th>\n",
              "      <td>339695.00</td>\n",
              "    </tr>\n",
              "    <tr>\n",
              "      <th>mean</th>\n",
              "      <td>4.16</td>\n",
              "    </tr>\n",
              "    <tr>\n",
              "      <th>std</th>\n",
              "      <td>1.10</td>\n",
              "    </tr>\n",
              "    <tr>\n",
              "      <th>min</th>\n",
              "      <td>1.00</td>\n",
              "    </tr>\n",
              "    <tr>\n",
              "      <th>25%</th>\n",
              "      <td>4.00</td>\n",
              "    </tr>\n",
              "    <tr>\n",
              "      <th>50%</th>\n",
              "      <td>5.00</td>\n",
              "    </tr>\n",
              "    <tr>\n",
              "      <th>75%</th>\n",
              "      <td>5.00</td>\n",
              "    </tr>\n",
              "    <tr>\n",
              "      <th>max</th>\n",
              "      <td>5.00</td>\n",
              "    </tr>\n",
              "  </tbody>\n",
              "</table>\n",
              "</div>\n",
              "      <button class=\"colab-df-convert\" onclick=\"convertToInteractive('df-e4d0cc4d-9d11-4435-9aa2-17cc412503d8')\"\n",
              "              title=\"Convert this dataframe to an interactive table.\"\n",
              "              style=\"display:none;\">\n",
              "        \n",
              "  <svg xmlns=\"http://www.w3.org/2000/svg\" height=\"24px\"viewBox=\"0 0 24 24\"\n",
              "       width=\"24px\">\n",
              "    <path d=\"M0 0h24v24H0V0z\" fill=\"none\"/>\n",
              "    <path d=\"M18.56 5.44l.94 2.06.94-2.06 2.06-.94-2.06-.94-.94-2.06-.94 2.06-2.06.94zm-11 1L8.5 8.5l.94-2.06 2.06-.94-2.06-.94L8.5 2.5l-.94 2.06-2.06.94zm10 10l.94 2.06.94-2.06 2.06-.94-2.06-.94-.94-2.06-.94 2.06-2.06.94z\"/><path d=\"M17.41 7.96l-1.37-1.37c-.4-.4-.92-.59-1.43-.59-.52 0-1.04.2-1.43.59L10.3 9.45l-7.72 7.72c-.78.78-.78 2.05 0 2.83L4 21.41c.39.39.9.59 1.41.59.51 0 1.02-.2 1.41-.59l7.78-7.78 2.81-2.81c.8-.78.8-2.07 0-2.86zM5.41 20L4 18.59l7.72-7.72 1.47 1.35L5.41 20z\"/>\n",
              "  </svg>\n",
              "      </button>\n",
              "      \n",
              "  <style>\n",
              "    .colab-df-container {\n",
              "      display:flex;\n",
              "      flex-wrap:wrap;\n",
              "      gap: 12px;\n",
              "    }\n",
              "\n",
              "    .colab-df-convert {\n",
              "      background-color: #E8F0FE;\n",
              "      border: none;\n",
              "      border-radius: 50%;\n",
              "      cursor: pointer;\n",
              "      display: none;\n",
              "      fill: #1967D2;\n",
              "      height: 32px;\n",
              "      padding: 0 0 0 0;\n",
              "      width: 32px;\n",
              "    }\n",
              "\n",
              "    .colab-df-convert:hover {\n",
              "      background-color: #E2EBFA;\n",
              "      box-shadow: 0px 1px 2px rgba(60, 64, 67, 0.3), 0px 1px 3px 1px rgba(60, 64, 67, 0.15);\n",
              "      fill: #174EA6;\n",
              "    }\n",
              "\n",
              "    [theme=dark] .colab-df-convert {\n",
              "      background-color: #3B4455;\n",
              "      fill: #D2E3FC;\n",
              "    }\n",
              "\n",
              "    [theme=dark] .colab-df-convert:hover {\n",
              "      background-color: #434B5C;\n",
              "      box-shadow: 0px 1px 3px 1px rgba(0, 0, 0, 0.15);\n",
              "      filter: drop-shadow(0px 1px 2px rgba(0, 0, 0, 0.3));\n",
              "      fill: #FFFFFF;\n",
              "    }\n",
              "  </style>\n",
              "\n",
              "      <script>\n",
              "        const buttonEl =\n",
              "          document.querySelector('#df-e4d0cc4d-9d11-4435-9aa2-17cc412503d8 button.colab-df-convert');\n",
              "        buttonEl.style.display =\n",
              "          google.colab.kernel.accessAllowed ? 'block' : 'none';\n",
              "\n",
              "        async function convertToInteractive(key) {\n",
              "          const element = document.querySelector('#df-e4d0cc4d-9d11-4435-9aa2-17cc412503d8');\n",
              "          const dataTable =\n",
              "            await google.colab.kernel.invokeFunction('convertToInteractive',\n",
              "                                                     [key], {});\n",
              "          if (!dataTable) return;\n",
              "\n",
              "          const docLinkHtml = 'Like what you see? Visit the ' +\n",
              "            '<a target=\"_blank\" href=https://colab.research.google.com/notebooks/data_table.ipynb>data table notebook</a>'\n",
              "            + ' to learn more about interactive tables.';\n",
              "          element.innerHTML = '';\n",
              "          dataTable['output_type'] = 'display_data';\n",
              "          await google.colab.output.renderOutput(dataTable, element);\n",
              "          const docLink = document.createElement('div');\n",
              "          docLink.innerHTML = docLinkHtml;\n",
              "          element.appendChild(docLink);\n",
              "        }\n",
              "      </script>\n",
              "    </div>\n",
              "  </div>\n",
              "  "
            ]
          },
          "metadata": {},
          "execution_count": 89
        }
      ]
    },
    {
      "cell_type": "markdown",
      "source": [
        "**Step 6** - Explore distributions of numeric columns using histograms."
      ],
      "metadata": {
        "id": "A_C7ZFIjkvbk"
      }
    },
    {
      "cell_type": "code",
      "source": [
        "df.hist(column='Rating')"
      ],
      "metadata": {
        "colab": {
          "base_uri": "https://localhost:8080/",
          "height": 379
        },
        "id": "g8RVt4Mek2Nl",
        "outputId": "6a204a29-355b-4fe1-b5f5-655f44de1376"
      },
      "execution_count": null,
      "outputs": [
        {
          "output_type": "execute_result",
          "data": {
            "text/plain": [
              "array([[<matplotlib.axes._subplots.AxesSubplot object at 0x7fbd894ae460>]],\n",
              "      dtype=object)"
            ]
          },
          "metadata": {},
          "execution_count": 90
        },
        {
          "output_type": "display_data",
          "data": {
            "text/plain": [
              "<Figure size 648x360 with 1 Axes>"
            ],
            "image/png": "[encoded data removed]"
          },
          "metadata": {
            "needs_background": "light"
          }
        }
      ]
    },
    {
      "cell_type": "markdown",
      "metadata": {
        "id": "Fv4NPHasVJJ7"
      },
      "source": [
        "**Step 7** - Get the distribution of restaurant reviews across different location."
      ]
    },
    {
      "cell_type": "code",
      "execution_count": null,
      "metadata": {
        "id": "NKN6RIplVJJ7",
        "colab": {
          "base_uri": "https://localhost:8080/"
        },
        "outputId": "ebe67b71-82e2-408a-fb0d-94f100accdee"
      },
      "outputs": [
        {
          "output_type": "execute_result",
          "data": {
            "text/plain": [
              "KL               98750\n",
              "Petaling Jaya    49932\n",
              "Penang           44502\n",
              "JB               35238\n",
              "Ipoh             30796\n",
              "Kuching          29603\n",
              "Langkawi         29303\n",
              "Melaka           26690\n",
              "Shah Alam         8658\n",
              "Miri              8312\n",
              "Name: Location, dtype: int64"
            ]
          },
          "metadata": {},
          "execution_count": 91
        }
      ],
      "source": [
        "#Distribution across locations\n",
        "df_ori[\"Location\"].value_counts()"
      ]
    },
    {
      "cell_type": "code",
      "execution_count": null,
      "metadata": {
        "id": "-Scf_lKnVJJ7",
        "colab": {
          "base_uri": "https://localhost:8080/",
          "height": 583
        },
        "outputId": "ca9af378-a36d-4c90-c9c2-7363ae4ffef7"
      },
      "outputs": [
        {
          "output_type": "display_data",
          "data": {
            "text/plain": [
              "<Figure size 720x576 with 1 Axes>"
            ],
            "image/png": "[encoded data removed]"
          },
          "metadata": {
            "needs_background": "light"
          }
        }
      ],
      "source": [
        "df_ori[\"Location\"].value_counts().plot(kind='bar',\n",
        "                                       figsize=(10, 8),\n",
        "                                       ylabel=\"Number of reviews\",\n",
        "                                       title=\"Review Distribution\",\n",
        "                                      );"
      ]
    },
    {
      "cell_type": "markdown",
      "metadata": {
        "id": "Dn_AW-5uVJJ7"
      },
      "source": [
        "**Step 7** - Explore the rating distribution of all restaurants in Malaysia."
      ]
    },
    {
      "cell_type": "code",
      "execution_count": null,
      "metadata": {
        "id": "c7fugjWzVJJ7",
        "colab": {
          "base_uri": "https://localhost:8080/"
        },
        "outputId": "81b82ed4-7106-43a6-9aa3-6ff2832ce83d"
      },
      "outputs": [
        {
          "output_type": "execute_result",
          "data": {
            "text/plain": [
              "KL               98750\n",
              "Petaling Jaya    49932\n",
              "Penang           44502\n",
              "JB               35238\n",
              "Ipoh             30796\n",
              "Kuching          29603\n",
              "Langkawi         29303\n",
              "Melaka           26690\n",
              "Shah Alam         8658\n",
              "Miri              8312\n",
              "Name: Location, dtype: int64"
            ]
          },
          "metadata": {},
          "execution_count": 93
        }
      ],
      "source": [
        "# Rating Distribution\n",
        "df_ori[\"Location\"].value_counts()"
      ]
    },
    {
      "cell_type": "code",
      "execution_count": null,
      "metadata": {
        "id": "pPnlFwy2VJJ7",
        "colab": {
          "base_uri": "https://localhost:8080/",
          "height": 406
        },
        "outputId": "b22f100d-a8e8-4a77-a48a-05663b60a333"
      },
      "outputs": [
        {
          "output_type": "display_data",
          "data": {
            "text/plain": [
              "<Figure size 576x432 with 1 Axes>"
            ],
            "image/png": "[encoded data removed]"
          },
          "metadata": {
            "needs_background": "light"
          }
        }
      ],
      "source": [
        "# Rating Distribution Graph\n",
        "df_ori[\"Rating\"].value_counts().plot(kind='bar',\n",
        "                                     figsize=(8, 6),\n",
        "                                     ylabel=\"Number of reviews\",\n",
        "                                    title=\"Rating Distribution\");"
      ]
    },
    {
      "cell_type": "markdown",
      "metadata": {
        "id": "rN1bUu8RVJJ7"
      },
      "source": [
        "**Step 8** - Get the average rating of reviews."
      ]
    },
    {
      "cell_type": "code",
      "execution_count": null,
      "metadata": {
        "id": "kMrm6CiAVJJ8",
        "colab": {
          "base_uri": "https://localhost:8080/"
        },
        "outputId": "e1f1248c-eab9-4334-b549-6165963604d0"
      },
      "outputs": [
        {
          "output_type": "stream",
          "name": "stdout",
          "text": [
            "Average Rating: 4.18\n"
          ]
        }
      ],
      "source": [
        "# Average Rating\n",
        "avgRating = df_ori[\"Rating\"].mean().round(2)\n",
        "print(f\"Average Rating: {avgRating}\")"
      ]
    },
    {
      "cell_type": "code",
      "execution_count": null,
      "metadata": {
        "id": "RSt7KlcfVJJ8",
        "colab": {
          "base_uri": "https://localhost:8080/",
          "height": 438
        },
        "outputId": "0ca3579d-0033-4025-c15b-3ed84aa1242e"
      },
      "outputs": [
        {
          "output_type": "display_data",
          "data": {
            "text/plain": [
              "<Figure size 1080x360 with 1 Axes>"
            ],
            "image/png": "[encoded data removed]"
          },
          "metadata": {
            "needs_background": "light"
          }
        }
      ],
      "source": [
        "# Average rating across different locations\n",
        "\n",
        "df_ori.pivot_table(index='Location', values='Rating', aggfunc='mean') \\\n",
        "    .plot(kind='bar', ylabel=\"Average Rating\",\n",
        "          title=\"Rating Distribution\", figsize=(15, 5),\n",
        "         );"
      ]
    },
    {
      "cell_type": "markdown",
      "metadata": {
        "id": "tLNLw0EOVJJ8"
      },
      "source": [
        "**Step 9** - Get the review summary uing the \"Label\" column in a form of barchart."
      ]
    },
    {
      "cell_type": "code",
      "execution_count": null,
      "metadata": {
        "id": "61sgf555VJJ8",
        "colab": {
          "base_uri": "https://localhost:8080/"
        },
        "outputId": "a1f01512-fc95-4c94-d9ba-0a321e8c56e8"
      },
      "outputs": [
        {
          "output_type": "execute_result",
          "data": {
            "text/plain": [
              "Positive    289745\n",
              "Neutral      39835\n",
              "Negative     32204\n",
              "Name: Label, dtype: int64"
            ]
          },
          "metadata": {},
          "execution_count": 97
        }
      ],
      "source": [
        "df_ori[\"Label\"].value_counts()"
      ]
    },
    {
      "cell_type": "code",
      "execution_count": null,
      "metadata": {
        "id": "fOQ9cTWiVJJ8",
        "colab": {
          "base_uri": "https://localhost:8080/",
          "height": 393
        },
        "outputId": "d4920df3-0de5-4705-f476-bd191c907a5a"
      },
      "outputs": [
        {
          "output_type": "display_data",
          "data": {
            "text/plain": [
              "<Figure size 576x360 with 1 Axes>"
            ],
            "image/png": "[encoded data removed]"
          },
          "metadata": {
            "needs_background": "light"
          }
        }
      ],
      "source": [
        "df_ori[\"Label\"].value_counts().plot(kind='bar',\n",
        "                                     figsize=(8, 5),\n",
        "                                     ylabel=\"Number of reviews\",\n",
        "                                    title=\"Review Summary\");"
      ]
    },
    {
      "cell_type": "markdown",
      "metadata": {
        "id": "nt_CVhi-VJJ8"
      },
      "source": [
        "**Step 10** - Find the percentage review type using the review summary data."
      ]
    },
    {
      "cell_type": "code",
      "execution_count": null,
      "metadata": {
        "id": "Zatc4Si_VJJ8",
        "colab": {
          "base_uri": "https://localhost:8080/",
          "height": 143
        },
        "outputId": "9d98f1fe-e615-4ae8-ced1-03fc0588f63a"
      },
      "outputs": [
        {
          "output_type": "execute_result",
          "data": {
            "text/plain": [
              "           Label\n",
              "Positive  289745\n",
              "Neutral    39835\n",
              "Negative   32204"
            ],
            "text/html": [
              "\n",
              "  <div id=\"df-b98810ae-3ed6-4f2c-9ed5-cce1ee76fd1c\">\n",
              "    <div class=\"colab-df-container\">\n",
              "      <div>\n",
              "<style scoped>\n",
              "    .dataframe tbody tr th:only-of-type {\n",
              "        vertical-align: middle;\n",
              "    }\n",
              "\n",
              "    .dataframe tbody tr th {\n",
              "        vertical-align: top;\n",
              "    }\n",
              "\n",
              "    .dataframe thead th {\n",
              "        text-align: right;\n",
              "    }\n",
              "</style>\n",
              "<table border=\"1\" class=\"dataframe\">\n",
              "  <thead>\n",
              "    <tr style=\"text-align: right;\">\n",
              "      <th></th>\n",
              "      <th>Label</th>\n",
              "    </tr>\n",
              "  </thead>\n",
              "  <tbody>\n",
              "    <tr>\n",
              "      <th>Positive</th>\n",
              "      <td>289745</td>\n",
              "    </tr>\n",
              "    <tr>\n",
              "      <th>Neutral</th>\n",
              "      <td>39835</td>\n",
              "    </tr>\n",
              "    <tr>\n",
              "      <th>Negative</th>\n",
              "      <td>32204</td>\n",
              "    </tr>\n",
              "  </tbody>\n",
              "</table>\n",
              "</div>\n",
              "      <button class=\"colab-df-convert\" onclick=\"convertToInteractive('df-b98810ae-3ed6-4f2c-9ed5-cce1ee76fd1c')\"\n",
              "              title=\"Convert this dataframe to an interactive table.\"\n",
              "              style=\"display:none;\">\n",
              "        \n",
              "  <svg xmlns=\"http://www.w3.org/2000/svg\" height=\"24px\"viewBox=\"0 0 24 24\"\n",
              "       width=\"24px\">\n",
              "    <path d=\"M0 0h24v24H0V0z\" fill=\"none\"/>\n",
              "    <path d=\"M18.56 5.44l.94 2.06.94-2.06 2.06-.94-2.06-.94-.94-2.06-.94 2.06-2.06.94zm-11 1L8.5 8.5l.94-2.06 2.06-.94-2.06-.94L8.5 2.5l-.94 2.06-2.06.94zm10 10l.94 2.06.94-2.06 2.06-.94-2.06-.94-.94-2.06-.94 2.06-2.06.94z\"/><path d=\"M17.41 7.96l-1.37-1.37c-.4-.4-.92-.59-1.43-.59-.52 0-1.04.2-1.43.59L10.3 9.45l-7.72 7.72c-.78.78-.78 2.05 0 2.83L4 21.41c.39.39.9.59 1.41.59.51 0 1.02-.2 1.41-.59l7.78-7.78 2.81-2.81c.8-.78.8-2.07 0-2.86zM5.41 20L4 18.59l7.72-7.72 1.47 1.35L5.41 20z\"/>\n",
              "  </svg>\n",
              "      </button>\n",
              "      \n",
              "  <style>\n",
              "    .colab-df-container {\n",
              "      display:flex;\n",
              "      flex-wrap:wrap;\n",
              "      gap: 12px;\n",
              "    }\n",
              "\n",
              "    .colab-df-convert {\n",
              "      background-color: #E8F0FE;\n",
              "      border: none;\n",
              "      border-radius: 50%;\n",
              "      cursor: pointer;\n",
              "      display: none;\n",
              "      fill: #1967D2;\n",
              "      height: 32px;\n",
              "      padding: 0 0 0 0;\n",
              "      width: 32px;\n",
              "    }\n",
              "\n",
              "    .colab-df-convert:hover {\n",
              "      background-color: #E2EBFA;\n",
              "      box-shadow: 0px 1px 2px rgba(60, 64, 67, 0.3), 0px 1px 3px 1px rgba(60, 64, 67, 0.15);\n",
              "      fill: #174EA6;\n",
              "    }\n",
              "\n",
              "    [theme=dark] .colab-df-convert {\n",
              "      background-color: #3B4455;\n",
              "      fill: #D2E3FC;\n",
              "    }\n",
              "\n",
              "    [theme=dark] .colab-df-convert:hover {\n",
              "      background-color: #434B5C;\n",
              "      box-shadow: 0px 1px 3px 1px rgba(0, 0, 0, 0.15);\n",
              "      filter: drop-shadow(0px 1px 2px rgba(0, 0, 0, 0.3));\n",
              "      fill: #FFFFFF;\n",
              "    }\n",
              "  </style>\n",
              "\n",
              "      <script>\n",
              "        const buttonEl =\n",
              "          document.querySelector('#df-b98810ae-3ed6-4f2c-9ed5-cce1ee76fd1c button.colab-df-convert');\n",
              "        buttonEl.style.display =\n",
              "          google.colab.kernel.accessAllowed ? 'block' : 'none';\n",
              "\n",
              "        async function convertToInteractive(key) {\n",
              "          const element = document.querySelector('#df-b98810ae-3ed6-4f2c-9ed5-cce1ee76fd1c');\n",
              "          const dataTable =\n",
              "            await google.colab.kernel.invokeFunction('convertToInteractive',\n",
              "                                                     [key], {});\n",
              "          if (!dataTable) return;\n",
              "\n",
              "          const docLinkHtml = 'Like what you see? Visit the ' +\n",
              "            '<a target=\"_blank\" href=https://colab.research.google.com/notebooks/data_table.ipynb>data table notebook</a>'\n",
              "            + ' to learn more about interactive tables.';\n",
              "          element.innerHTML = '';\n",
              "          dataTable['output_type'] = 'display_data';\n",
              "          await google.colab.output.renderOutput(dataTable, element);\n",
              "          const docLink = document.createElement('div');\n",
              "          docLink.innerHTML = docLinkHtml;\n",
              "          element.appendChild(docLink);\n",
              "        }\n",
              "      </script>\n",
              "    </div>\n",
              "  </div>\n",
              "  "
            ]
          },
          "metadata": {},
          "execution_count": 99
        }
      ],
      "source": [
        "# Review Type\n",
        "pd.DataFrame(df_ori[\"Label\"].value_counts())"
      ]
    },
    {
      "cell_type": "code",
      "execution_count": null,
      "metadata": {
        "id": "RBYoxztOVJJ8",
        "colab": {
          "base_uri": "https://localhost:8080/",
          "height": 143
        },
        "outputId": "687b52b6-5c91-443a-b485-d5464f0b5f10"
      },
      "outputs": [
        {
          "output_type": "execute_result",
          "data": {
            "text/plain": [
              "          Percentage\n",
              "Positive   80.087842\n",
              "Neutral    11.010714\n",
              "Negative    8.901444"
            ],
            "text/html": [
              "\n",
              "  <div id=\"df-afe80743-fc75-4239-9dfc-2d80f1dfd135\">\n",
              "    <div class=\"colab-df-container\">\n",
              "      <div>\n",
              "<style scoped>\n",
              "    .dataframe tbody tr th:only-of-type {\n",
              "        vertical-align: middle;\n",
              "    }\n",
              "\n",
              "    .dataframe tbody tr th {\n",
              "        vertical-align: top;\n",
              "    }\n",
              "\n",
              "    .dataframe thead th {\n",
              "        text-align: right;\n",
              "    }\n",
              "</style>\n",
              "<table border=\"1\" class=\"dataframe\">\n",
              "  <thead>\n",
              "    <tr style=\"text-align: right;\">\n",
              "      <th></th>\n",
              "      <th>Percentage</th>\n",
              "    </tr>\n",
              "  </thead>\n",
              "  <tbody>\n",
              "    <tr>\n",
              "      <th>Positive</th>\n",
              "      <td>80.087842</td>\n",
              "    </tr>\n",
              "    <tr>\n",
              "      <th>Neutral</th>\n",
              "      <td>11.010714</td>\n",
              "    </tr>\n",
              "    <tr>\n",
              "      <th>Negative</th>\n",
              "      <td>8.901444</td>\n",
              "    </tr>\n",
              "  </tbody>\n",
              "</table>\n",
              "</div>\n",
              "      <button class=\"colab-df-convert\" onclick=\"convertToInteractive('df-afe80743-fc75-4239-9dfc-2d80f1dfd135')\"\n",
              "              title=\"Convert this dataframe to an interactive table.\"\n",
              "              style=\"display:none;\">\n",
              "        \n",
              "  <svg xmlns=\"http://www.w3.org/2000/svg\" height=\"24px\"viewBox=\"0 0 24 24\"\n",
              "       width=\"24px\">\n",
              "    <path d=\"M0 0h24v24H0V0z\" fill=\"none\"/>\n",
              "    <path d=\"M18.56 5.44l.94 2.06.94-2.06 2.06-.94-2.06-.94-.94-2.06-.94 2.06-2.06.94zm-11 1L8.5 8.5l.94-2.06 2.06-.94-2.06-.94L8.5 2.5l-.94 2.06-2.06.94zm10 10l.94 2.06.94-2.06 2.06-.94-2.06-.94-.94-2.06-.94 2.06-2.06.94z\"/><path d=\"M17.41 7.96l-1.37-1.37c-.4-.4-.92-.59-1.43-.59-.52 0-1.04.2-1.43.59L10.3 9.45l-7.72 7.72c-.78.78-.78 2.05 0 2.83L4 21.41c.39.39.9.59 1.41.59.51 0 1.02-.2 1.41-.59l7.78-7.78 2.81-2.81c.8-.78.8-2.07 0-2.86zM5.41 20L4 18.59l7.72-7.72 1.47 1.35L5.41 20z\"/>\n",
              "  </svg>\n",
              "      </button>\n",
              "      \n",
              "  <style>\n",
              "    .colab-df-container {\n",
              "      display:flex;\n",
              "      flex-wrap:wrap;\n",
              "      gap: 12px;\n",
              "    }\n",
              "\n",
              "    .colab-df-convert {\n",
              "      background-color: #E8F0FE;\n",
              "      border: none;\n",
              "      border-radius: 50%;\n",
              "      cursor: pointer;\n",
              "      display: none;\n",
              "      fill: #1967D2;\n",
              "      height: 32px;\n",
              "      padding: 0 0 0 0;\n",
              "      width: 32px;\n",
              "    }\n",
              "\n",
              "    .colab-df-convert:hover {\n",
              "      background-color: #E2EBFA;\n",
              "      box-shadow: 0px 1px 2px rgba(60, 64, 67, 0.3), 0px 1px 3px 1px rgba(60, 64, 67, 0.15);\n",
              "      fill: #174EA6;\n",
              "    }\n",
              "\n",
              "    [theme=dark] .colab-df-convert {\n",
              "      background-color: #3B4455;\n",
              "      fill: #D2E3FC;\n",
              "    }\n",
              "\n",
              "    [theme=dark] .colab-df-convert:hover {\n",
              "      background-color: #434B5C;\n",
              "      box-shadow: 0px 1px 3px 1px rgba(0, 0, 0, 0.15);\n",
              "      filter: drop-shadow(0px 1px 2px rgba(0, 0, 0, 0.3));\n",
              "      fill: #FFFFFF;\n",
              "    }\n",
              "  </style>\n",
              "\n",
              "      <script>\n",
              "        const buttonEl =\n",
              "          document.querySelector('#df-afe80743-fc75-4239-9dfc-2d80f1dfd135 button.colab-df-convert');\n",
              "        buttonEl.style.display =\n",
              "          google.colab.kernel.accessAllowed ? 'block' : 'none';\n",
              "\n",
              "        async function convertToInteractive(key) {\n",
              "          const element = document.querySelector('#df-afe80743-fc75-4239-9dfc-2d80f1dfd135');\n",
              "          const dataTable =\n",
              "            await google.colab.kernel.invokeFunction('convertToInteractive',\n",
              "                                                     [key], {});\n",
              "          if (!dataTable) return;\n",
              "\n",
              "          const docLinkHtml = 'Like what you see? Visit the ' +\n",
              "            '<a target=\"_blank\" href=https://colab.research.google.com/notebooks/data_table.ipynb>data table notebook</a>'\n",
              "            + ' to learn more about interactive tables.';\n",
              "          element.innerHTML = '';\n",
              "          dataTable['output_type'] = 'display_data';\n",
              "          await google.colab.output.renderOutput(dataTable, element);\n",
              "          const docLink = document.createElement('div');\n",
              "          docLink.innerHTML = docLinkHtml;\n",
              "          element.appendChild(docLink);\n",
              "        }\n",
              "      </script>\n",
              "    </div>\n",
              "  </div>\n",
              "  "
            ]
          },
          "metadata": {},
          "execution_count": 100
        }
      ],
      "source": [
        "# Percentage of Review Type\n",
        "pd.DataFrame(df_ori[\"Label\"].value_counts() / df_ori.index.size * 100) \\\n",
        "    .rename(columns={'Label': \"Percentage\"})"
      ]
    },
    {
      "cell_type": "markdown",
      "metadata": {
        "id": "E0U3IWm8VJJ9"
      },
      "source": [
        "## Asking and Answering Questions\n",
        "\n"
      ]
    },
    {
      "cell_type": "markdown",
      "metadata": {
        "id": "SjXvLl4dVJJ9"
      },
      "source": [
        "> Instructions (delete this cell)\n",
        ">\n",
        "> - Ask at least 5 interesting questions about your dataset\n",
        "> - Answer the questions either by computing the results using Numpy/Pandas or by plotting graphs using Matplotlib/Seaborn\n",
        "> - Create new columns, merge multiple dataset and perform grouping/aggregation wherever necessary\n",
        "> - Wherever you're using a library function from Pandas/Numpy/Matplotlib etc. explain briefly what it does\n",
        "\n"
      ]
    },
    {
      "cell_type": "markdown",
      "metadata": {
        "id": "7Lor5rHMVJJ9"
      },
      "source": [
        "#### Q1: TODO - ask a question here and answer it below"
      ]
    },
    {
      "cell_type": "markdown",
      "source": [
        "What is the top 10 restaurants based on average rating"
      ],
      "metadata": {
        "id": "6erGUnURNtnI"
      }
    },
    {
      "cell_type": "code",
      "execution_count": null,
      "metadata": {
        "id": "D-PdOKqCVJJ9",
        "colab": {
          "base_uri": "https://localhost:8080/",
          "height": 394
        },
        "outputId": "aa691747-545f-4936-ee7a-ff9842915906"
      },
      "outputs": [
        {
          "output_type": "execute_result",
          "data": {
            "text/plain": [
              "                            Rating\n",
              "Restaurant                        \n",
              "Spiced Pumpkin Cafe            5.0\n",
              "Baan Carabao                   5.0\n",
              "Latte Be Light                 5.0\n",
              "Ayam Penyet                    5.0\n",
              "Restaurant Pin Wei Seafood     5.0\n",
              "Restaurant Smk Corner          5.0\n",
              "Restaurant Soon Tong           5.0\n",
              "Thirty8 Fashion                5.0\n",
              "Canard eat & roll              5.0\n",
              "Restoran Bendang               5.0"
            ],
            "text/html": [
              "\n",
              "  <div id=\"df-58f9e450-e2ca-49c7-a1f9-c74c904ccd0a\">\n",
              "    <div class=\"colab-df-container\">\n",
              "      <div>\n",
              "<style scoped>\n",
              "    .dataframe tbody tr th:only-of-type {\n",
              "        vertical-align: middle;\n",
              "    }\n",
              "\n",
              "    .dataframe tbody tr th {\n",
              "        vertical-align: top;\n",
              "    }\n",
              "\n",
              "    .dataframe thead th {\n",
              "        text-align: right;\n",
              "    }\n",
              "</style>\n",
              "<table border=\"1\" class=\"dataframe\">\n",
              "  <thead>\n",
              "    <tr style=\"text-align: right;\">\n",
              "      <th></th>\n",
              "      <th>Rating</th>\n",
              "    </tr>\n",
              "    <tr>\n",
              "      <th>Restaurant</th>\n",
              "      <th></th>\n",
              "    </tr>\n",
              "  </thead>\n",
              "  <tbody>\n",
              "    <tr>\n",
              "      <th>Spiced Pumpkin Cafe</th>\n",
              "      <td>5.0</td>\n",
              "    </tr>\n",
              "    <tr>\n",
              "      <th>Baan Carabao</th>\n",
              "      <td>5.0</td>\n",
              "    </tr>\n",
              "    <tr>\n",
              "      <th>Latte Be Light</th>\n",
              "      <td>5.0</td>\n",
              "    </tr>\n",
              "    <tr>\n",
              "      <th>Ayam Penyet</th>\n",
              "      <td>5.0</td>\n",
              "    </tr>\n",
              "    <tr>\n",
              "      <th>Restaurant Pin Wei Seafood</th>\n",
              "      <td>5.0</td>\n",
              "    </tr>\n",
              "    <tr>\n",
              "      <th>Restaurant Smk Corner</th>\n",
              "      <td>5.0</td>\n",
              "    </tr>\n",
              "    <tr>\n",
              "      <th>Restaurant Soon Tong</th>\n",
              "      <td>5.0</td>\n",
              "    </tr>\n",
              "    <tr>\n",
              "      <th>Thirty8 Fashion</th>\n",
              "      <td>5.0</td>\n",
              "    </tr>\n",
              "    <tr>\n",
              "      <th>Canard eat &amp; roll</th>\n",
              "      <td>5.0</td>\n",
              "    </tr>\n",
              "    <tr>\n",
              "      <th>Restoran Bendang</th>\n",
              "      <td>5.0</td>\n",
              "    </tr>\n",
              "  </tbody>\n",
              "</table>\n",
              "</div>\n",
              "      <button class=\"colab-df-convert\" onclick=\"convertToInteractive('df-58f9e450-e2ca-49c7-a1f9-c74c904ccd0a')\"\n",
              "              title=\"Convert this dataframe to an interactive table.\"\n",
              "              style=\"display:none;\">\n",
              "        \n",
              "  <svg xmlns=\"http://www.w3.org/2000/svg\" height=\"24px\"viewBox=\"0 0 24 24\"\n",
              "       width=\"24px\">\n",
              "    <path d=\"M0 0h24v24H0V0z\" fill=\"none\"/>\n",
              "    <path d=\"M18.56 5.44l.94 2.06.94-2.06 2.06-.94-2.06-.94-.94-2.06-.94 2.06-2.06.94zm-11 1L8.5 8.5l.94-2.06 2.06-.94-2.06-.94L8.5 2.5l-.94 2.06-2.06.94zm10 10l.94 2.06.94-2.06 2.06-.94-2.06-.94-.94-2.06-.94 2.06-2.06.94z\"/><path d=\"M17.41 7.96l-1.37-1.37c-.4-.4-.92-.59-1.43-.59-.52 0-1.04.2-1.43.59L10.3 9.45l-7.72 7.72c-.78.78-.78 2.05 0 2.83L4 21.41c.39.39.9.59 1.41.59.51 0 1.02-.2 1.41-.59l7.78-7.78 2.81-2.81c.8-.78.8-2.07 0-2.86zM5.41 20L4 18.59l7.72-7.72 1.47 1.35L5.41 20z\"/>\n",
              "  </svg>\n",
              "      </button>\n",
              "      \n",
              "  <style>\n",
              "    .colab-df-container {\n",
              "      display:flex;\n",
              "      flex-wrap:wrap;\n",
              "      gap: 12px;\n",
              "    }\n",
              "\n",
              "    .colab-df-convert {\n",
              "      background-color: #E8F0FE;\n",
              "      border: none;\n",
              "      border-radius: 50%;\n",
              "      cursor: pointer;\n",
              "      display: none;\n",
              "      fill: #1967D2;\n",
              "      height: 32px;\n",
              "      padding: 0 0 0 0;\n",
              "      width: 32px;\n",
              "    }\n",
              "\n",
              "    .colab-df-convert:hover {\n",
              "      background-color: #E2EBFA;\n",
              "      box-shadow: 0px 1px 2px rgba(60, 64, 67, 0.3), 0px 1px 3px 1px rgba(60, 64, 67, 0.15);\n",
              "      fill: #174EA6;\n",
              "    }\n",
              "\n",
              "    [theme=dark] .colab-df-convert {\n",
              "      background-color: #3B4455;\n",
              "      fill: #D2E3FC;\n",
              "    }\n",
              "\n",
              "    [theme=dark] .colab-df-convert:hover {\n",
              "      background-color: #434B5C;\n",
              "      box-shadow: 0px 1px 3px 1px rgba(0, 0, 0, 0.15);\n",
              "      filter: drop-shadow(0px 1px 2px rgba(0, 0, 0, 0.3));\n",
              "      fill: #FFFFFF;\n",
              "    }\n",
              "  </style>\n",
              "\n",
              "      <script>\n",
              "        const buttonEl =\n",
              "          document.querySelector('#df-58f9e450-e2ca-49c7-a1f9-c74c904ccd0a button.colab-df-convert');\n",
              "        buttonEl.style.display =\n",
              "          google.colab.kernel.accessAllowed ? 'block' : 'none';\n",
              "\n",
              "        async function convertToInteractive(key) {\n",
              "          const element = document.querySelector('#df-58f9e450-e2ca-49c7-a1f9-c74c904ccd0a');\n",
              "          const dataTable =\n",
              "            await google.colab.kernel.invokeFunction('convertToInteractive',\n",
              "                                                     [key], {});\n",
              "          if (!dataTable) return;\n",
              "\n",
              "          const docLinkHtml = 'Like what you see? Visit the ' +\n",
              "            '<a target=\"_blank\" href=https://colab.research.google.com/notebooks/data_table.ipynb>data table notebook</a>'\n",
              "            + ' to learn more about interactive tables.';\n",
              "          element.innerHTML = '';\n",
              "          dataTable['output_type'] = 'display_data';\n",
              "          await google.colab.output.renderOutput(dataTable, element);\n",
              "          const docLink = document.createElement('div');\n",
              "          docLink.innerHTML = docLinkHtml;\n",
              "          element.appendChild(docLink);\n",
              "        }\n",
              "      </script>\n",
              "    </div>\n",
              "  </div>\n",
              "  "
            ]
          },
          "metadata": {},
          "execution_count": 101
        }
      ],
      "source": [
        "averageRating_restaurants = df_ori[[\"Restaurant\", \"Rating\"]] \\\n",
        "                .pivot_table(index=['Restaurant'], values='Rating', aggfunc='mean') \\\n",
        "                .sort_values('Rating', ascending=False)\n",
        "averageRating_restaurants.head(10)"
      ]
    },
    {
      "cell_type": "markdown",
      "metadata": {
        "id": "c_REVnrhVJJ-"
      },
      "source": [
        "#### Q2: TODO - ask a question here and answer it below"
      ]
    },
    {
      "cell_type": "markdown",
      "source": [
        "Does a longer review results in better ratings?"
      ],
      "metadata": {
        "id": "Qku5rj96N9zf"
      }
    },
    {
      "cell_type": "code",
      "execution_count": null,
      "metadata": {
        "id": "ShA3QyQpVJJ-"
      },
      "outputs": [],
      "source": [
        "import nltk\n",
        "\n",
        "tokenizer = nltk.RegexpTokenizer(r\"\\w+\")\n",
        "\n",
        "df_ori['Word_count'] = df_ori['Review'].apply(lambda x: len(tokenizer.tokenize(x)))"
      ]
    },
    {
      "cell_type": "code",
      "execution_count": null,
      "metadata": {
        "id": "dvyLd9MdVJJ-",
        "colab": {
          "base_uri": "https://localhost:8080/",
          "height": 362
        },
        "outputId": "833429c8-9166-41e1-95c1-ed446750eca2"
      },
      "outputs": [
        {
          "output_type": "display_data",
          "data": {
            "text/plain": [
              "<Figure size 648x360 with 1 Axes>"
            ],
            "image/png": "[encoded data removed]"
          },
          "metadata": {
            "needs_background": "light"
          }
        }
      ],
      "source": [
        "import matplotlib.pyplot as plt\n",
        "\n",
        "plt.scatter(x=df_ori['Word_count'], y=df_ori['Rating'], alpha=0.02)\n",
        "plt.xlabel('Word count')\n",
        "plt.ylabel('Rating')\n",
        "plt.title('Relationship between rating and word count');"
      ]
    },
    {
      "cell_type": "code",
      "execution_count": null,
      "metadata": {
        "id": "tdjrhzySVJJ-",
        "colab": {
          "base_uri": "https://localhost:8080/",
          "height": 112
        },
        "outputId": "b589f2bf-f485-49d0-c3e9-3367c9178455"
      },
      "outputs": [
        {
          "output_type": "execute_result",
          "data": {
            "text/plain": [
              "            Word_count    Rating\n",
              "Word_count    1.000000 -0.111255\n",
              "Rating       -0.111255  1.000000"
            ],
            "text/html": [
              "\n",
              "  <div id=\"df-4501d121-28a7-46af-8775-8994c0ebdf35\">\n",
              "    <div class=\"colab-df-container\">\n",
              "      <div>\n",
              "<style scoped>\n",
              "    .dataframe tbody tr th:only-of-type {\n",
              "        vertical-align: middle;\n",
              "    }\n",
              "\n",
              "    .dataframe tbody tr th {\n",
              "        vertical-align: top;\n",
              "    }\n",
              "\n",
              "    .dataframe thead th {\n",
              "        text-align: right;\n",
              "    }\n",
              "</style>\n",
              "<table border=\"1\" class=\"dataframe\">\n",
              "  <thead>\n",
              "    <tr style=\"text-align: right;\">\n",
              "      <th></th>\n",
              "      <th>Word_count</th>\n",
              "      <th>Rating</th>\n",
              "    </tr>\n",
              "  </thead>\n",
              "  <tbody>\n",
              "    <tr>\n",
              "      <th>Word_count</th>\n",
              "      <td>1.000000</td>\n",
              "      <td>-0.111255</td>\n",
              "    </tr>\n",
              "    <tr>\n",
              "      <th>Rating</th>\n",
              "      <td>-0.111255</td>\n",
              "      <td>1.000000</td>\n",
              "    </tr>\n",
              "  </tbody>\n",
              "</table>\n",
              "</div>\n",
              "      <button class=\"colab-df-convert\" onclick=\"convertToInteractive('df-4501d121-28a7-46af-8775-8994c0ebdf35')\"\n",
              "              title=\"Convert this dataframe to an interactive table.\"\n",
              "              style=\"display:none;\">\n",
              "        \n",
              "  <svg xmlns=\"http://www.w3.org/2000/svg\" height=\"24px\"viewBox=\"0 0 24 24\"\n",
              "       width=\"24px\">\n",
              "    <path d=\"M0 0h24v24H0V0z\" fill=\"none\"/>\n",
              "    <path d=\"M18.56 5.44l.94 2.06.94-2.06 2.06-.94-2.06-.94-.94-2.06-.94 2.06-2.06.94zm-11 1L8.5 8.5l.94-2.06 2.06-.94-2.06-.94L8.5 2.5l-.94 2.06-2.06.94zm10 10l.94 2.06.94-2.06 2.06-.94-2.06-.94-.94-2.06-.94 2.06-2.06.94z\"/><path d=\"M17.41 7.96l-1.37-1.37c-.4-.4-.92-.59-1.43-.59-.52 0-1.04.2-1.43.59L10.3 9.45l-7.72 7.72c-.78.78-.78 2.05 0 2.83L4 21.41c.39.39.9.59 1.41.59.51 0 1.02-.2 1.41-.59l7.78-7.78 2.81-2.81c.8-.78.8-2.07 0-2.86zM5.41 20L4 18.59l7.72-7.72 1.47 1.35L5.41 20z\"/>\n",
              "  </svg>\n",
              "      </button>\n",
              "      \n",
              "  <style>\n",
              "    .colab-df-container {\n",
              "      display:flex;\n",
              "      flex-wrap:wrap;\n",
              "      gap: 12px;\n",
              "    }\n",
              "\n",
              "    .colab-df-convert {\n",
              "      background-color: #E8F0FE;\n",
              "      border: none;\n",
              "      border-radius: 50%;\n",
              "      cursor: pointer;\n",
              "      display: none;\n",
              "      fill: #1967D2;\n",
              "      height: 32px;\n",
              "      padding: 0 0 0 0;\n",
              "      width: 32px;\n",
              "    }\n",
              "\n",
              "    .colab-df-convert:hover {\n",
              "      background-color: #E2EBFA;\n",
              "      box-shadow: 0px 1px 2px rgba(60, 64, 67, 0.3), 0px 1px 3px 1px rgba(60, 64, 67, 0.15);\n",
              "      fill: #174EA6;\n",
              "    }\n",
              "\n",
              "    [theme=dark] .colab-df-convert {\n",
              "      background-color: #3B4455;\n",
              "      fill: #D2E3FC;\n",
              "    }\n",
              "\n",
              "    [theme=dark] .colab-df-convert:hover {\n",
              "      background-color: #434B5C;\n",
              "      box-shadow: 0px 1px 3px 1px rgba(0, 0, 0, 0.15);\n",
              "      filter: drop-shadow(0px 1px 2px rgba(0, 0, 0, 0.3));\n",
              "      fill: #FFFFFF;\n",
              "    }\n",
              "  </style>\n",
              "\n",
              "      <script>\n",
              "        const buttonEl =\n",
              "          document.querySelector('#df-4501d121-28a7-46af-8775-8994c0ebdf35 button.colab-df-convert');\n",
              "        buttonEl.style.display =\n",
              "          google.colab.kernel.accessAllowed ? 'block' : 'none';\n",
              "\n",
              "        async function convertToInteractive(key) {\n",
              "          const element = document.querySelector('#df-4501d121-28a7-46af-8775-8994c0ebdf35');\n",
              "          const dataTable =\n",
              "            await google.colab.kernel.invokeFunction('convertToInteractive',\n",
              "                                                     [key], {});\n",
              "          if (!dataTable) return;\n",
              "\n",
              "          const docLinkHtml = 'Like what you see? Visit the ' +\n",
              "            '<a target=\"_blank\" href=https://colab.research.google.com/notebooks/data_table.ipynb>data table notebook</a>'\n",
              "            + ' to learn more about interactive tables.';\n",
              "          element.innerHTML = '';\n",
              "          dataTable['output_type'] = 'display_data';\n",
              "          await google.colab.output.renderOutput(dataTable, element);\n",
              "          const docLink = document.createElement('div');\n",
              "          docLink.innerHTML = docLinkHtml;\n",
              "          element.appendChild(docLink);\n",
              "        }\n",
              "      </script>\n",
              "    </div>\n",
              "  </div>\n",
              "  "
            ]
          },
          "metadata": {},
          "execution_count": 104
        }
      ],
      "source": [
        "df_ori[['Word_count', 'Rating']].corr()"
      ]
    },
    {
      "cell_type": "markdown",
      "source": [
        "From our findings, there seems to be no correlation bbetween the two variables."
      ],
      "metadata": {
        "id": "xvU8sab7OvtD"
      }
    },
    {
      "cell_type": "markdown",
      "metadata": {
        "id": "ya3o0SurVJJ-"
      },
      "source": [
        "#### Q3: TODO - ask a question here and answer it below"
      ]
    },
    {
      "cell_type": "markdown",
      "source": [
        "What is the most common phrase/word used by users in the reviews"
      ],
      "metadata": {
        "id": "nHQZv_TsO5Wy"
      }
    },
    {
      "cell_type": "code",
      "execution_count": null,
      "metadata": {
        "id": "CaF9SiPeVJJ-"
      },
      "outputs": [],
      "source": [
        "from wordcloud import WordCloud\n",
        "import nltk\n",
        "from nltk.corpus import stopwords\n",
        "import matplotlib.pyplot as plt"
      ]
    },
    {
      "cell_type": "code",
      "source": [
        "df_positive = df[df[\"Rating\"] > 3]\n",
        "df_neutral = df[df[\"Rating\"] == 3]\n",
        "df_negative = df[df[\"Rating\"] < 3]"
      ],
      "metadata": {
        "id": "fn_aOPc9TBVP"
      },
      "execution_count": null,
      "outputs": []
    },
    {
      "cell_type": "code",
      "execution_count": null,
      "metadata": {
        "id": "bGV1nEzqVJJ-",
        "colab": {
          "base_uri": "https://localhost:8080/"
        },
        "outputId": "ff318e60-4371-41c5-a787-4cde84ca631d"
      },
      "outputs": [
        {
          "output_type": "stream",
          "name": "stderr",
          "text": [
            "[nltk_data] Downloading package stopwords to /root/nltk_data...\n",
            "[nltk_data]   Package stopwords is already up-to-date!\n"
          ]
        }
      ],
      "source": [
        "nltk.download('stopwords')\n",
        "stopwordz = set(stopwords.words(\"english\"))\n",
        "stopwordz.remove('not') # remove negative"
      ]
    },
    {
      "cell_type": "code",
      "execution_count": null,
      "metadata": {
        "id": "1y8gWqGcVJJ-"
      },
      "outputs": [],
      "source": [
        "texts = \" \".join(review.lower() for review in df[\"Review\"])\n",
        "# remove punctuation\n",
        "tokenizer = nltk.RegexpTokenizer(r\"\\w+\")\n",
        "tokens = tokenizer.tokenize(texts)\n",
        "# remove stopwords\n",
        "tokens = [token for token in tokens if token not in stopwordz]\n",
        "\n",
        "overall_unigram = nltk.FreqDist(tokens).most_common(20)"
      ]
    },
    {
      "cell_type": "code",
      "source": [
        "overall_unigram\n",
        "overallUnigram_df = pd.DataFrame(overall_unigram, columns=['Unigram', 'Count'])\n",
        "overallUnigram_df"
      ],
      "metadata": {
        "colab": {
          "base_uri": "https://localhost:8080/",
          "height": 676
        },
        "id": "lRSWDktVSYwS",
        "outputId": "12bb7406-966f-40c1-e7cb-476c2b90140f"
      },
      "execution_count": null,
      "outputs": [
        {
          "output_type": "execute_result",
          "data": {
            "text/plain": [
              "       Unigram   Count\n",
              "0         food  208145\n",
              "1         good  145511\n",
              "2          not   87382\n",
              "3      service   83760\n",
              "4        place   82728\n",
              "5        great   71729\n",
              "6         nice   67433\n",
              "7   restaurant   64852\n",
              "8        staff   46725\n",
              "9    delicious   41794\n",
              "10    friendly   38565\n",
              "11         one   37525\n",
              "12        best   37105\n",
              "13      really   36711\n",
              "14       price   35100\n",
              "15     chicken   34627\n",
              "16        time   33902\n",
              "17       taste   32343\n",
              "18        like   31600\n",
              "19         try   31507"
            ],
            "text/html": [
              "\n",
              "  <div id=\"df-7ad92b50-bfd4-4c3a-9eff-fc0861b8d3b7\">\n",
              "    <div class=\"colab-df-container\">\n",
              "      <div>\n",
              "<style scoped>\n",
              "    .dataframe tbody tr th:only-of-type {\n",
              "        vertical-align: middle;\n",
              "    }\n",
              "\n",
              "    .dataframe tbody tr th {\n",
              "        vertical-align: top;\n",
              "    }\n",
              "\n",
              "    .dataframe thead th {\n",
              "        text-align: right;\n",
              "    }\n",
              "</style>\n",
              "<table border=\"1\" class=\"dataframe\">\n",
              "  <thead>\n",
              "    <tr style=\"text-align: right;\">\n",
              "      <th></th>\n",
              "      <th>Unigram</th>\n",
              "      <th>Count</th>\n",
              "    </tr>\n",
              "  </thead>\n",
              "  <tbody>\n",
              "    <tr>\n",
              "      <th>0</th>\n",
              "      <td>food</td>\n",
              "      <td>208145</td>\n",
              "    </tr>\n",
              "    <tr>\n",
              "      <th>1</th>\n",
              "      <td>good</td>\n",
              "      <td>145511</td>\n",
              "    </tr>\n",
              "    <tr>\n",
              "      <th>2</th>\n",
              "      <td>not</td>\n",
              "      <td>87382</td>\n",
              "    </tr>\n",
              "    <tr>\n",
              "      <th>3</th>\n",
              "      <td>service</td>\n",
              "      <td>83760</td>\n",
              "    </tr>\n",
              "    <tr>\n",
              "      <th>4</th>\n",
              "      <td>place</td>\n",
              "      <td>82728</td>\n",
              "    </tr>\n",
              "    <tr>\n",
              "      <th>5</th>\n",
              "      <td>great</td>\n",
              "      <td>71729</td>\n",
              "    </tr>\n",
              "    <tr>\n",
              "      <th>6</th>\n",
              "      <td>nice</td>\n",
              "      <td>67433</td>\n",
              "    </tr>\n",
              "    <tr>\n",
              "      <th>7</th>\n",
              "      <td>restaurant</td>\n",
              "      <td>64852</td>\n",
              "    </tr>\n",
              "    <tr>\n",
              "      <th>8</th>\n",
              "      <td>staff</td>\n",
              "      <td>46725</td>\n",
              "    </tr>\n",
              "    <tr>\n",
              "      <th>9</th>\n",
              "      <td>delicious</td>\n",
              "      <td>41794</td>\n",
              "    </tr>\n",
              "    <tr>\n",
              "      <th>10</th>\n",
              "      <td>friendly</td>\n",
              "      <td>38565</td>\n",
              "    </tr>\n",
              "    <tr>\n",
              "      <th>11</th>\n",
              "      <td>one</td>\n",
              "      <td>37525</td>\n",
              "    </tr>\n",
              "    <tr>\n",
              "      <th>12</th>\n",
              "      <td>best</td>\n",
              "      <td>37105</td>\n",
              "    </tr>\n",
              "    <tr>\n",
              "      <th>13</th>\n",
              "      <td>really</td>\n",
              "      <td>36711</td>\n",
              "    </tr>\n",
              "    <tr>\n",
              "      <th>14</th>\n",
              "      <td>price</td>\n",
              "      <td>35100</td>\n",
              "    </tr>\n",
              "    <tr>\n",
              "      <th>15</th>\n",
              "      <td>chicken</td>\n",
              "      <td>34627</td>\n",
              "    </tr>\n",
              "    <tr>\n",
              "      <th>16</th>\n",
              "      <td>time</td>\n",
              "      <td>33902</td>\n",
              "    </tr>\n",
              "    <tr>\n",
              "      <th>17</th>\n",
              "      <td>taste</td>\n",
              "      <td>32343</td>\n",
              "    </tr>\n",
              "    <tr>\n",
              "      <th>18</th>\n",
              "      <td>like</td>\n",
              "      <td>31600</td>\n",
              "    </tr>\n",
              "    <tr>\n",
              "      <th>19</th>\n",
              "      <td>try</td>\n",
              "      <td>31507</td>\n",
              "    </tr>\n",
              "  </tbody>\n",
              "</table>\n",
              "</div>\n",
              "      <button class=\"colab-df-convert\" onclick=\"convertToInteractive('df-7ad92b50-bfd4-4c3a-9eff-fc0861b8d3b7')\"\n",
              "              title=\"Convert this dataframe to an interactive table.\"\n",
              "              style=\"display:none;\">\n",
              "        \n",
              "  <svg xmlns=\"http://www.w3.org/2000/svg\" height=\"24px\"viewBox=\"0 0 24 24\"\n",
              "       width=\"24px\">\n",
              "    <path d=\"M0 0h24v24H0V0z\" fill=\"none\"/>\n",
              "    <path d=\"M18.56 5.44l.94 2.06.94-2.06 2.06-.94-2.06-.94-.94-2.06-.94 2.06-2.06.94zm-11 1L8.5 8.5l.94-2.06 2.06-.94-2.06-.94L8.5 2.5l-.94 2.06-2.06.94zm10 10l.94 2.06.94-2.06 2.06-.94-2.06-.94-.94-2.06-.94 2.06-2.06.94z\"/><path d=\"M17.41 7.96l-1.37-1.37c-.4-.4-.92-.59-1.43-.59-.52 0-1.04.2-1.43.59L10.3 9.45l-7.72 7.72c-.78.78-.78 2.05 0 2.83L4 21.41c.39.39.9.59 1.41.59.51 0 1.02-.2 1.41-.59l7.78-7.78 2.81-2.81c.8-.78.8-2.07 0-2.86zM5.41 20L4 18.59l7.72-7.72 1.47 1.35L5.41 20z\"/>\n",
              "  </svg>\n",
              "      </button>\n",
              "      \n",
              "  <style>\n",
              "    .colab-df-container {\n",
              "      display:flex;\n",
              "      flex-wrap:wrap;\n",
              "      gap: 12px;\n",
              "    }\n",
              "\n",
              "    .colab-df-convert {\n",
              "      background-color: #E8F0FE;\n",
              "      border: none;\n",
              "      border-radius: 50%;\n",
              "      cursor: pointer;\n",
              "      display: none;\n",
              "      fill: #1967D2;\n",
              "      height: 32px;\n",
              "      padding: 0 0 0 0;\n",
              "      width: 32px;\n",
              "    }\n",
              "\n",
              "    .colab-df-convert:hover {\n",
              "      background-color: #E2EBFA;\n",
              "      box-shadow: 0px 1px 2px rgba(60, 64, 67, 0.3), 0px 1px 3px 1px rgba(60, 64, 67, 0.15);\n",
              "      fill: #174EA6;\n",
              "    }\n",
              "\n",
              "    [theme=dark] .colab-df-convert {\n",
              "      background-color: #3B4455;\n",
              "      fill: #D2E3FC;\n",
              "    }\n",
              "\n",
              "    [theme=dark] .colab-df-convert:hover {\n",
              "      background-color: #434B5C;\n",
              "      box-shadow: 0px 1px 3px 1px rgba(0, 0, 0, 0.15);\n",
              "      filter: drop-shadow(0px 1px 2px rgba(0, 0, 0, 0.3));\n",
              "      fill: #FFFFFF;\n",
              "    }\n",
              "  </style>\n",
              "\n",
              "      <script>\n",
              "        const buttonEl =\n",
              "          document.querySelector('#df-7ad92b50-bfd4-4c3a-9eff-fc0861b8d3b7 button.colab-df-convert');\n",
              "        buttonEl.style.display =\n",
              "          google.colab.kernel.accessAllowed ? 'block' : 'none';\n",
              "\n",
              "        async function convertToInteractive(key) {\n",
              "          const element = document.querySelector('#df-7ad92b50-bfd4-4c3a-9eff-fc0861b8d3b7');\n",
              "          const dataTable =\n",
              "            await google.colab.kernel.invokeFunction('convertToInteractive',\n",
              "                                                     [key], {});\n",
              "          if (!dataTable) return;\n",
              "\n",
              "          const docLinkHtml = 'Like what you see? Visit the ' +\n",
              "            '<a target=\"_blank\" href=https://colab.research.google.com/notebooks/data_table.ipynb>data table notebook</a>'\n",
              "            + ' to learn more about interactive tables.';\n",
              "          element.innerHTML = '';\n",
              "          dataTable['output_type'] = 'display_data';\n",
              "          await google.colab.output.renderOutput(dataTable, element);\n",
              "          const docLink = document.createElement('div');\n",
              "          docLink.innerHTML = docLinkHtml;\n",
              "          element.appendChild(docLink);\n",
              "        }\n",
              "      </script>\n",
              "    </div>\n",
              "  </div>\n",
              "  "
            ]
          },
          "metadata": {},
          "execution_count": 109
        }
      ]
    },
    {
      "cell_type": "markdown",
      "metadata": {
        "id": "p4CcVO1TVJJ-"
      },
      "source": [
        "#### Q4: TODO - ask a question here and answer it below"
      ]
    },
    {
      "cell_type": "markdown",
      "source": [
        "What word is often used in positive reviews"
      ],
      "metadata": {
        "id": "gHesCKZmS3Av"
      }
    },
    {
      "cell_type": "code",
      "execution_count": null,
      "metadata": {
        "id": "Wa96BGX1VJJ-"
      },
      "outputs": [],
      "source": [
        "texts_positive = \" \".join(review.lower() for review in df_positive[\"Review\"])\n",
        "# remove punctuation\n",
        "tokenizer_positive = nltk.RegexpTokenizer(r\"\\w+\")\n",
        "tokens_positive = tokenizer.tokenize(texts_positive)\n",
        "# remove stopwords\n",
        "tokens_positive = [token for token in tokens_positive if token not in stopwordz]\n",
        "\n",
        "positive_unigram = nltk.FreqDist(tokens_positive).most_common(20)"
      ]
    },
    {
      "cell_type": "code",
      "execution_count": null,
      "metadata": {
        "id": "R_C78KePVJJ-",
        "colab": {
          "base_uri": "https://localhost:8080/",
          "height": 359
        },
        "outputId": "2f207e33-af23-434c-a262-caf303f2e25a"
      },
      "outputs": [
        {
          "output_type": "execute_result",
          "data": {
            "text/plain": [
              "Text(0, 0.5, 'Unigram')"
            ]
          },
          "metadata": {},
          "execution_count": 111
        },
        {
          "output_type": "display_data",
          "data": {
            "text/plain": [
              "<Figure size 648x360 with 1 Axes>"
            ],
            "image/png": "[encoded data removed]"
          },
          "metadata": {
            "needs_background": "light"
          }
        }
      ],
      "source": [
        "positiveUnigram_df = pd.DataFrame(positive_unigram, columns=['Unigram', 'Count'])\n",
        "plt.barh(positiveUnigram_df['Unigram'], width=positiveUnigram_df[\"Count\"])\n",
        "plt.xlabel('Frequency')\n",
        "plt.ylabel('Unigram')"
      ]
    },
    {
      "cell_type": "markdown",
      "metadata": {
        "id": "uFuZBqX1VJJ_"
      },
      "source": [
        "#### Q5: TODO - ask a question here and answer it below"
      ]
    },
    {
      "cell_type": "markdown",
      "source": [
        "What word is often used in negative reviews?"
      ],
      "metadata": {
        "id": "grGkgl2eTWAu"
      }
    },
    {
      "cell_type": "code",
      "execution_count": null,
      "metadata": {
        "id": "0XCOkgIHVJJ_"
      },
      "outputs": [],
      "source": [
        "texts_negative = \" \".join(review.lower() for review in df_negative[\"Review\"])\n",
        "# remove punctuation\n",
        "tokenizer_negative = nltk.RegexpTokenizer(r\"\\w+\")\n",
        "tokens_negative = tokenizer.tokenize(texts_negative)\n",
        "\n",
        "# remove stopwords\n",
        "tokens_negative = [token for token in tokens_negative if token not in stopwordz]\n",
        "\n",
        "negative_unigram = nltk.FreqDist(tokens_negative).most_common(20)"
      ]
    },
    {
      "cell_type": "code",
      "execution_count": null,
      "metadata": {
        "id": "xZWIg8jJVJJ_",
        "colab": {
          "base_uri": "https://localhost:8080/",
          "height": 359
        },
        "outputId": "78b8e038-9205-49f8-f262-4c687a3f4fcd"
      },
      "outputs": [
        {
          "output_type": "execute_result",
          "data": {
            "text/plain": [
              "Text(0, 0.5, 'Unigram')"
            ]
          },
          "metadata": {},
          "execution_count": 113
        },
        {
          "output_type": "display_data",
          "data": {
            "text/plain": [
              "<Figure size 648x360 with 1 Axes>"
            ],
            "image/png": "[encoded data removed]"
          },
          "metadata": {
            "needs_background": "light"
          }
        }
      ],
      "source": [
        "negativeUnigram_df = pd.DataFrame(negative_unigram, columns=['Unigram', 'Count'])\n",
        "plt.barh(negativeUnigram_df['Unigram'], width=negativeUnigram_df[\"Count\"])\n",
        "plt.xlabel('Frequency')\n",
        "plt.ylabel('Unigram')"
      ]
    },
    {
      "cell_type": "markdown",
      "metadata": {
        "id": "VxoO755tVJJ_"
      },
      "source": [
        "## Inferences and Conclusion\n"
      ]
    },
    {
      "cell_type": "markdown",
      "source": [
        "After further analysis, we have found multiple observations from our findings. Although, not all of our initial assumptions resulted in any useful outcomes such as correlation between review rating and word length. However, we did found some interesting results from observing what words were often used in both positive and negative reviews. "
      ],
      "metadata": {
        "id": "3KqtSWhIUe_u"
      }
    },
    {
      "cell_type": "markdown",
      "metadata": {
        "id": "xfuc6sJgVJKA"
      },
      "source": [
        "## References and Future Work\n",
        "\n"
      ]
    },
    {
      "cell_type": "markdown",
      "source": [
        "In my opinion, our findings barely scratch the surface of the topic. Indeed, we could perhaps find out the reason of the problems for all the negative reviews by doing a thorough analysis unlike what we did just by using datas from review and not actually finding the cause. Hopefully, this would help the business owners to improve so they could grow their restaurants."
      ],
      "metadata": {
        "id": "15sdbzK4VZ13"
      }
    }
  ],
  "metadata": {
    "kernelspec": {
      "display_name": "Python 3",
      "language": "python",
      "name": "python3"
    },
    "language_info": {
      "codemirror_mode": {
        "name": "ipython",
        "version": 3
      },
      "file_extension": ".py",
      "mimetype": "text/x-python",
      "name": "python",
      "nbconvert_exporter": "python",
      "pygments_lexer": "ipython3",
      "version": "3.8.5"
    },
    "colab": {
      "provenance": []
    }
  },
  "nbformat": 4,
  "nbformat_minor": 0
}